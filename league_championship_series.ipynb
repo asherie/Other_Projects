{
 "metadata": {
  "name": ""
 },
 "nbformat": 3,
 "nbformat_minor": 0,
 "worksheets": [
  {
   "cells": [
    {
     "cell_type": "markdown",
     "metadata": {},
     "source": [
      "# Is the LCS random? #\n",
      "### Notebook by Neer Asherie ###"
     ]
    },
    {
     "cell_type": "markdown",
     "metadata": {},
     "source": [
      "**Summary:** I analyze League Championship Series (LCS) results to test whether the outcomes can be modeled as a fair coin toss i.e., I check whether the outcome is determined by chance.   \n",
      "<br />\n",
      "**Conclusion:** The LCS results can be explained by chance, suggesting that the skill of the two teams is not an essential factor in the outcome. These results are consistent with my previous work showing that the World Series can be explained by chance."
     ]
    },
    {
     "cell_type": "heading",
     "level": 3,
     "metadata": {},
     "source": [
      "Introduction"
     ]
    },
    {
     "cell_type": "markdown",
     "metadata": {},
     "source": [
      "As I did previously with World Series data (https://github.com/asherie/Other_Projects/blob/master/world_series.ipynb), I compare the number of times a team has won the LCS in 4, 5, 6 o 7 games with the number of times expected for a binomial trial. Initally, I consider the case of a fair coin with $p=1/2$ and then I present the results for an arbitray probability $p$.\n"
     ]
    },
    {
     "cell_type": "heading",
     "level": 3,
     "metadata": {},
     "source": [
      "Data"
     ]
    },
    {
     "cell_type": "markdown",
     "metadata": {},
     "source": [
      "I use the data for the League Championship Series for the American League (AL) and National League (NL) that have been played as best-of-seven games (1985-2015), so that I can use the same analysis I did for the World Series.  Note that in 1994 the LCS was not played due to a labor dispute. Unlike the World series, where the modern best-of-games sapn 1903-2015, for the LCS the win-loss record was used from 1903 to 1968 and a best-of-five series from 1969-1984.\n",
      "\n",
      "See https://en.wikipedia.org/wiki/League_Championship_Series for more information about the LCS. I took the raw data from here:\n",
      "\n",
      "AL: https://en.wikipedia.org/wiki/List_of_American_League_pennant_winners\n",
      "\n",
      "NL: https://en.wikipedia.org/wiki/List_of_National_League_pennant_winners\n",
      "\n",
      "I used Google spreadsheets to scrape the Wikipedia data (following instructions at http://blog.ouseful.info/2008/10/14/data-scraping-wikipedia-with-google-spreadsheets/) and downloaded it as an Excel spreasheet (world_series_results.xlsx). I then cleaned the data to focus on 1985-2015 (with no 1994) data. Also, I calculated the total number of games played in each series as well as the relative records (wins - losses) for the winning and losing teams (see AL_LCS_cleaned7.xlsx and NL_LCS_cleaned7.xlsx for details). Finally, I saved it as a csv (AL_LCS_cleaned7.csv and NL_LCS_cleaned7).\n",
      "\n"
     ]
    },
    {
     "cell_type": "heading",
     "level": 3,
     "metadata": {},
     "source": [
      "Analysis"
     ]
    },
    {
     "cell_type": "markdown",
     "metadata": {},
     "source": [
      "Let the probability that team A wins a single game be $p$. The probabily that team B wins again is therefore $1-p$. \n",
      "\n",
      "Let $p_{i}(m)$ be the probability team $i$ ($i$ is A or B) wins the series in m games, where $ 7 \\geq m \\geq 4$. \n",
      "\n",
      "Assuming a binomial trial:\n",
      "\n",
      "$p_{A}(4)= p^4$ \n",
      "\n",
      "$p_{B}(4)=(1-p)^4$\n",
      "\n",
      "$p_{A}(5)=\\binom{4}{1}p^4(1-p)=4p^4(1-p)$ \n",
      "\n",
      "$p_{B}(5)=\\binom{4}{1}(1-p)^4p=4(1-p)^4p$\n",
      "\n",
      "$p_{A}(6)=\\binom{5}{2}p^4(1-p)^2=10p^4(1-p)^2$ \n",
      "\n",
      "$p_{B}(6)=\\binom{5}{2}(1-p)^4p^2=10(1-p)^4p^2$\n",
      "\n",
      "$p_{A}(7)=\\binom{6}{3}p^4(1-p)^3=20p^4(1-p)^3$  \n",
      "\n",
      "$p_{B}(7)=\\binom{6}{3}(1-p)^4p^3=20(1-p)^4p^3$"
     ]
    },
    {
     "cell_type": "markdown",
     "metadata": {},
     "source": [
      "Note that if $p \\rightarrow (1-p)$ then $p_{A}(m)$ becomes $p_{B}(m)$ and vice-versa as expected.\n"
     ]
    },
    {
     "cell_type": "markdown",
     "metadata": {},
     "source": [
      "Let the probability of someone winning the series in $m$ games be $p(m)$. Then $p(m)=p_{A}(m)+p_{B}(m)$ is given by"
     ]
    },
    {
     "cell_type": "markdown",
     "metadata": {},
     "source": [
      "$p(4)= p^4+(1-p)^4$ \n",
      "\n",
      "$p(5)= 4p(1-p)[p^3+(1-p)^3]$ \n",
      "\n",
      "$p(6)=10p^2(1-p)^2[p^2+(1-p)^2]$ \n",
      "\n",
      "$p(7)=20p^3(1-p)^3$"
     ]
    },
    {
     "cell_type": "markdown",
     "metadata": {},
     "source": [
      "I checked that $\\sum_{m=4}^{7}p(m)=1$ \n",
      "\n",
      "<font color='green'>Note:</font>  For a fair coin, $p=0.5$, so \n",
      "\n",
      "$p(4)=0.125;~p(5)=0.25;~p(6)=0.3125;~p(7)=0.3125$\n"
     ]
    },
    {
     "cell_type": "markdown",
     "metadata": {},
     "source": [
      "Now, calculate $p(m)$ from the data and compare with the results above."
     ]
    },
    {
     "cell_type": "markdown",
     "metadata": {},
     "source": [
      "Load modules"
     ]
    },
    {
     "cell_type": "code",
     "collapsed": false,
     "input": [
      "%matplotlib inline\n",
      "import os\n",
      "import datetime\n",
      "import pandas as pd\n",
      "import pandas.io.data\n",
      "import matplotlib.pyplot as plt\n",
      "import numpy as np\n",
      "import scipy as sp\n",
      "import scipy.stats as stats  \n",
      "import scipy.optimize as opt"
     ],
     "language": "python",
     "metadata": {},
     "outputs": [],
     "prompt_number": 89
    },
    {
     "cell_type": "markdown",
     "metadata": {},
     "source": [
      "Load data. Start with AL results."
     ]
    },
    {
     "cell_type": "code",
     "collapsed": false,
     "input": [
      "al_lcs_res = pd.read_csv('/Users/asherie/LCS/AL_LCS_cleaned7.csv') \n"
     ],
     "language": "python",
     "metadata": {},
     "outputs": [],
     "prompt_number": 90
    },
    {
     "cell_type": "markdown",
     "metadata": {},
     "source": [
      "Look at first few lines."
     ]
    },
    {
     "cell_type": "code",
     "collapsed": false,
     "input": [
      "al_lcs_res.head(6)"
     ],
     "language": "python",
     "metadata": {},
     "outputs": [
      {
       "html": [
        "<div style=\"max-height:1000px;max-width:1500px;overflow:auto;\">\n",
        "<table border=\"1\" class=\"dataframe\">\n",
        "  <thead>\n",
        "    <tr style=\"text-align: right;\">\n",
        "      <th></th>\n",
        "      <th>Year</th>\n",
        "      <th>Winning team</th>\n",
        "      <th>WT record</th>\n",
        "      <th>WT relative record</th>\n",
        "      <th>WT wins</th>\n",
        "      <th>LT wins</th>\n",
        "      <th>Win</th>\n",
        "      <th>Losing team </th>\n",
        "      <th>LT record</th>\n",
        "      <th>LT relative record</th>\n",
        "      <th>WT_LT difference</th>\n",
        "    </tr>\n",
        "  </thead>\n",
        "  <tbody>\n",
        "    <tr>\n",
        "      <th>0</th>\n",
        "      <td> 1985</td>\n",
        "      <td> Kansas City Royals</td>\n",
        "      <td>  91;71</td>\n",
        "      <td> 20</td>\n",
        "      <td> 4</td>\n",
        "      <td> 3</td>\n",
        "      <td> 7</td>\n",
        "      <td> Toronto Blue Jays</td>\n",
        "      <td> 99;62</td>\n",
        "      <td> 37</td>\n",
        "      <td>-17</td>\n",
        "    </tr>\n",
        "    <tr>\n",
        "      <th>1</th>\n",
        "      <td> 1986</td>\n",
        "      <td>     Boston Red Sox</td>\n",
        "      <td>  95;66</td>\n",
        "      <td> 29</td>\n",
        "      <td> 4</td>\n",
        "      <td> 3</td>\n",
        "      <td> 7</td>\n",
        "      <td> California Angels</td>\n",
        "      <td> 92;70</td>\n",
        "      <td> 22</td>\n",
        "      <td>  7</td>\n",
        "    </tr>\n",
        "    <tr>\n",
        "      <th>2</th>\n",
        "      <td> 1987</td>\n",
        "      <td>    Minnesota Twins</td>\n",
        "      <td>  85;77</td>\n",
        "      <td>  8</td>\n",
        "      <td> 4</td>\n",
        "      <td> 1</td>\n",
        "      <td> 5</td>\n",
        "      <td>    Detroit Tigers</td>\n",
        "      <td> 98;64</td>\n",
        "      <td> 34</td>\n",
        "      <td>-26</td>\n",
        "    </tr>\n",
        "    <tr>\n",
        "      <th>3</th>\n",
        "      <td> 1988</td>\n",
        "      <td>  Oakland Athletics</td>\n",
        "      <td> 104;58</td>\n",
        "      <td> 46</td>\n",
        "      <td> 4</td>\n",
        "      <td> 0</td>\n",
        "      <td> 4</td>\n",
        "      <td>    Boston Red Sox</td>\n",
        "      <td> 89;73</td>\n",
        "      <td> 16</td>\n",
        "      <td> 30</td>\n",
        "    </tr>\n",
        "    <tr>\n",
        "      <th>4</th>\n",
        "      <td> 1989</td>\n",
        "      <td>  Oakland Athletics</td>\n",
        "      <td>  99;63</td>\n",
        "      <td> 36</td>\n",
        "      <td> 4</td>\n",
        "      <td> 1</td>\n",
        "      <td> 5</td>\n",
        "      <td> Toronto Blue Jays</td>\n",
        "      <td> 89;73</td>\n",
        "      <td> 16</td>\n",
        "      <td> 20</td>\n",
        "    </tr>\n",
        "    <tr>\n",
        "      <th>5</th>\n",
        "      <td> 1990</td>\n",
        "      <td>  Oakland Athletics</td>\n",
        "      <td> 103;59</td>\n",
        "      <td> 44</td>\n",
        "      <td> 4</td>\n",
        "      <td> 0</td>\n",
        "      <td> 4</td>\n",
        "      <td>    Boston Red Sox</td>\n",
        "      <td> 88;74</td>\n",
        "      <td> 14</td>\n",
        "      <td> 30</td>\n",
        "    </tr>\n",
        "  </tbody>\n",
        "</table>\n",
        "</div>"
       ],
       "metadata": {},
       "output_type": "pyout",
       "prompt_number": 91,
       "text": [
        "   Year        Winning team WT record  WT relative record  WT wins  LT wins  \\\n",
        "0  1985  Kansas City Royals     91;71                  20        4        3   \n",
        "1  1986      Boston Red Sox     95;66                  29        4        3   \n",
        "2  1987     Minnesota Twins     85;77                   8        4        1   \n",
        "3  1988   Oakland Athletics    104;58                  46        4        0   \n",
        "4  1989   Oakland Athletics     99;63                  36        4        1   \n",
        "5  1990   Oakland Athletics    103;59                  44        4        0   \n",
        "\n",
        "   Win       Losing team  LT record  LT relative record  WT_LT difference  \n",
        "0    7  Toronto Blue Jays     99;62                  37               -17  \n",
        "1    7  California Angels     92;70                  22                 7  \n",
        "2    5     Detroit Tigers     98;64                  34               -26  \n",
        "3    4     Boston Red Sox     89;73                  16                30  \n",
        "4    5  Toronto Blue Jays     89;73                  16                20  \n",
        "5    4     Boston Red Sox     88;74                  14                30  "
       ]
      }
     ],
     "prompt_number": 91
    },
    {
     "cell_type": "markdown",
     "metadata": {},
     "source": [
      "Construct a histogram of the wins data.   "
     ]
    },
    {
     "cell_type": "code",
     "collapsed": false,
     "input": [
      "hist_win, bins_win=np.histogram(al_lcs_res['Win'],bins=[4,5,6,7,8])"
     ],
     "language": "python",
     "metadata": {},
     "outputs": [],
     "prompt_number": 92
    },
    {
     "cell_type": "code",
     "collapsed": false,
     "input": [
      "# Check everything looks good\n",
      "print hist_win  \n",
      "# print bins_win\n",
      "print (sum(hist_win))"
     ],
     "language": "python",
     "metadata": {},
     "outputs": [
      {
       "output_type": "stream",
       "stream": "stdout",
       "text": [
        "[ 5  8 11  6]\n",
        "30\n"
       ]
      }
     ],
     "prompt_number": 93
    },
    {
     "cell_type": "code",
     "collapsed": false,
     "input": [
      "# Histogram centered on number of wins\n",
      "wbin = 0.6 * (bins_win[1] - bins_win[0])\n",
      "center = bins_win[:-1] # more generally (bins_win[:-1] + bins_win[1:]) / 2\n",
      "plt.bar(center, hist_win, align='center', width=wbin, fc=(0, 0, 1, 0.5))\n",
      "plt.locator_params(axis = 'x', nbins = 5)\n",
      "plt.xlabel('Wins', fontsize=14)\n",
      "plt.ylabel('Number', fontsize=14)\n",
      "plt.title('Histogram of wins by number for AL LCS', fontsize=16)\n",
      "plt.show()"
     ],
     "language": "python",
     "metadata": {},
     "outputs": [
      {
       "metadata": {},
       "output_type": "display_data",
       "png": "[encoded data removed]",
       "text": [
        "<matplotlib.figure.Figure at 0x108780a50>"
       ]
      }
     ],
     "prompt_number": 94
    },
    {
     "cell_type": "markdown",
     "metadata": {},
     "source": [
      "Calculate expected values for a fair con toss. Recall that in this case:\n",
      "\n",
      "$p(4)=0.125;~p(5)=0.25;~p(6)=0.3125;~p(7)=0.3125$\n"
     ]
    },
    {
     "cell_type": "markdown",
     "metadata": {},
     "source": [
      "Initialize parameters"
     ]
    },
    {
     "cell_type": "code",
     "collapsed": false,
     "input": [
      "trials = sum(hist_win) # Number of trials (total number of WS played)\n",
      "pw_exp = np.zeros(4) # expected probability of wins from binomials trials for m= 4, 5, 6 and 7\n",
      "win_exp = np.zeros(4) # expected number of wins from binomials trials for m= 4, 5, 6 and 7\n",
      "p = 0.5 # probability of winning a single game\n",
      "# Probability of win in m games with m= 4, 5, 6 and 7\n",
      "pw_exp[0] = p**4+(1-p)**4\n",
      "pw_exp[1] = 4*p*(1-p)*(p**3+(1-p)**3)\n",
      "pw_exp[2] = 10*p**2*(1-p)**2*(p**2+(1-p)**2)\n",
      "pw_exp[3] = 20*p**3*(1-p)**3\n",
      "\n",
      "for i in xrange(4):\n",
      "    win_exp[i]=trials*pw_exp[i]\n",
      "# Check values are sensible    \n",
      "print(pw_exp)\n",
      "print(win_exp)"
     ],
     "language": "python",
     "metadata": {},
     "outputs": [
      {
       "output_type": "stream",
       "stream": "stdout",
       "text": [
        "[ 0.125   0.25    0.3125  0.3125]\n",
        "[ 3.75   7.5    9.375  9.375]\n"
       ]
      }
     ],
     "prompt_number": 95
    },
    {
     "cell_type": "markdown",
     "metadata": {},
     "source": [
      "Compare actual and expected wins. Include standard error in expected wins as error bars."
     ]
    },
    {
     "cell_type": "code",
     "collapsed": false,
     "input": [
      "win_exp_err=np.zeros(4)\n",
      "wbin = 0.6 * (bins_win[1] - bins_win[0])\n",
      "center = bins_win[:-1] # more generally (bins_win[:-1] + bins_win[1:]) / 2\n",
      "# Expected error\n",
      "for i in xrange(4):\n",
      "    win_exp_err[i]=np.sqrt(win_exp[i]*(1-pw_exp[i]))   \n",
      "plt.bar(center, hist_win, align='center', width=wbin, fc=(0, 0, 1, 0.5), label='data')\n",
      "plt.bar(center, win_exp, align='center', width=wbin, fc=(1, 1, 1, 0.0), label='expected',linestyle='dashed',yerr=win_exp_err)\n",
      "# plt.bar(center, win_exp_max, align='center', width=wbin, fc=(0, 1, 0, 0.0), label='min_deviation',linestyle='dashed')\n",
      "# plt.bar(center, win_exp_min, align='center', width=wbin, fc=(1, 0, 0, 0.0), label='min',linestyle='dashed')\n",
      "plt.locator_params(axis = 'x', nbins = 5)\n",
      "plt.xlabel('Wins', fontsize=14)\n",
      "plt.ylabel('Number', fontsize=14)\n",
      "plt.title('Histogram of wins by number fo AL LCS', fontsize=16)\n",
      "plt.legend(loc='upper left')\n",
      "plt.show()"
     ],
     "language": "python",
     "metadata": {},
     "outputs": [
      {
       "metadata": {},
       "output_type": "display_data",
       "png": "[encoded data removed]",
       "text": [
        "<matplotlib.figure.Figure at 0x108781250>"
       ]
      }
     ],
     "prompt_number": 96
    },
    {
     "cell_type": "markdown",
     "metadata": {},
     "source": [
      "The two distributions look similar, but they are not identical. To check whether they are statistically distinguishable, I will perform a chi-square test. While the number of bins is small, the number of observations in large enough that the test should be applicable."
     ]
    },
    {
     "cell_type": "markdown",
     "metadata": {},
     "source": [
      "Calculate $\\chi^{2}$. Choose a significance level of 0.05."
     ]
    },
    {
     "cell_type": "code",
     "collapsed": false,
     "input": [
      "chisq = 0.0 \n",
      "for i in xrange(4):\n",
      "    chisq += (hist_win[i]-win_exp[i])**2/win_exp[i]\n",
      "print(chisq)"
     ],
     "language": "python",
     "metadata": {},
     "outputs": [
      {
       "output_type": "stream",
       "stream": "stdout",
       "text": [
        "1.94666666667\n"
       ]
      }
     ],
     "prompt_number": 97
    },
    {
     "cell_type": "markdown",
     "metadata": {},
     "source": [
      "The number of degrees of freedom is 3 (number of bins-1). From chi-square tables (e.g., http://sites.stat.psu.edu/~mga/401/tables/Chi-square-table.pdf), the critical value at the 0.05 significance level is <font color='red'>$\\chi^{2}_{c}=7.815$</font>, which is greater than the observed value. Therefore, the null hypothesis\u2014the observations are due to chance (a fair coin toss)\u2014cannot be rejected."
     ]
    },
    {
     "cell_type": "markdown",
     "metadata": {},
     "source": [
      "After I calculated chi-square manually, I discovered the chi-square function in scipy.stats"
     ]
    },
    {
     "cell_type": "code",
     "collapsed": false,
     "input": [
      "chisq_stats=stats.chisquare(hist_win,win_exp,ddof=0)\n",
      "print(chisq_stats)"
     ],
     "language": "python",
     "metadata": {},
     "outputs": [
      {
       "output_type": "stream",
       "stream": "stdout",
       "text": [
        "(1.9466666666666668, 0.5835496921913268)\n"
       ]
      }
     ],
     "prompt_number": 98
    },
    {
     "cell_type": "markdown",
     "metadata": {},
     "source": [
      "The second entry in chisq_stats is the significance level at which the calculated $\\chi^{2}$ is the critical value. In other words, the probability that the observed value of $\\chi^{2}$ occured by chance is 0.584."
     ]
    },
    {
     "cell_type": "markdown",
     "metadata": {},
     "source": [
      "By playing around with the value of $p$, I discovered that $0.75 \\geq p \\geq 0.25$ also can't be rejected. \n",
      "Note: $\\chi^{2}(p)=\\chi^{2}(1-p)$ due to the symmetry of $p(m)$."
     ]
    },
    {
     "cell_type": "markdown",
     "metadata": {},
     "source": [
      "I can assume a different null hypothesis: the AL LCS results are described by a coin toss that is not necessarilty fair, with an unknown probability. Then I can use a minimum chi-square test to assign a value for $p$."
     ]
    },
    {
     "cell_type": "code",
     "collapsed": false,
     "input": [
      "def chisq2(q, y):\n",
      "    trials = sum(y) # Number of trials (total number of LCS played)\n",
      "    pw_exp2 = np.zeros(4) # expected probaility of wins from binomials trials for m= 4, 5, 6 and 7\n",
      "    win_exp2 = np.zeros(4) # expected number of wins from binomials trials for m= 4, 5, 6 and 7\n",
      "    pw_exp2[0] = q**4+(1-q)**4\n",
      "    pw_exp2[1] = 4*q*(1-q)*(q**3+(1-q)**3)\n",
      "    pw_exp2[2] = 10*q**2*(1-q)**2*(q**2+(1-q)**2)\n",
      "    pw_exp2[3] = 20*q**3*(1-q)**3\n",
      "    \n",
      "    chisquare = 0.0    \n",
      "    for i in xrange(4):\n",
      "        win_exp2[i]=trials*pw_exp2[i]\n",
      "        chisquare += (y[i]-win_exp2[i])**2/win_exp2[i]\n",
      "        \n",
      "    return chisquare\n",
      "\n",
      "# Stepwise minimization\n",
      "q_init=0.5\n",
      "q_max=1\n",
      "q_min=0.5\n",
      "func_init=(chisq2(q_init, hist_win))\n",
      "\n",
      "# A simple minimization\n",
      "step=100000\n",
      "for i in xrange(step):\n",
      "    q = i*(q_max-q_min)/step + q_init # q = -i*(q_max-q_min)/1000 + q_init checks for q < 0.5 minimum\n",
      "    func = (chisq2(q, hist_win))\n",
      "    if func <= func_init:\n",
      "        func_init = func\n",
      "    else:\n",
      "        print('\\nMinimum chi-square is %.5f at p = %.3f or p = %.3f' % (func, q, 1-q))\n",
      "        break\n",
      "        \n"
     ],
     "language": "python",
     "metadata": {},
     "outputs": [
      {
       "output_type": "stream",
       "stream": "stdout",
       "text": [
        "\n",
        "Minimum chi-square is 0.97909 at p = 0.628 or p = 0.372\n"
       ]
      }
     ],
     "prompt_number": 99
    },
    {
     "cell_type": "markdown",
     "metadata": {},
     "source": [
      "With this value of the probability and the corresponding value of chi-square, I can use\n",
      "a chi-square test to calculate $\\alpha$ (the p-value). In this case the number of degrees of freedom is 2 since I have used the data to estimate one parameter.\n",
      "\n",
      "(Number of degrees of freedom = number of bins - numer of parameters estimated - 1).\n",
      "\n",
      "From http://stattrek.com/online-calculator/chi-square.aspx, I find $\\alpha=0.81$, which is larger than the p=0.5 case ($\\alpha=0.583$).\n"
     ]
    },
    {
     "cell_type": "markdown",
     "metadata": {},
     "source": [
      "<font color='green'>Conclusion I:</font>The AL LCS seems like a coin toss to me, just as I found with the WS. Now, repeat with the NL LCS data."
     ]
    },
    {
     "cell_type": "markdown",
     "metadata": {},
     "source": [
      "Load NL data. "
     ]
    },
    {
     "cell_type": "code",
     "collapsed": false,
     "input": [
      "nl_lcs_res = pd.read_csv('/Users/asherie/LCS/NL_LCS_cleaned6.csv') "
     ],
     "language": "python",
     "metadata": {},
     "outputs": [],
     "prompt_number": 100
    },
    {
     "cell_type": "markdown",
     "metadata": {},
     "source": [
      "Look at first few lines."
     ]
    },
    {
     "cell_type": "code",
     "collapsed": false,
     "input": [
      "nl_lcs_res.head(6)"
     ],
     "language": "python",
     "metadata": {},
     "outputs": [
      {
       "html": [
        "<div style=\"max-height:1000px;max-width:1500px;overflow:auto;\">\n",
        "<table border=\"1\" class=\"dataframe\">\n",
        "  <thead>\n",
        "    <tr style=\"text-align: right;\">\n",
        "      <th></th>\n",
        "      <th>Year</th>\n",
        "      <th>Winning team</th>\n",
        "      <th>WT Record</th>\n",
        "      <th>WT relative record</th>\n",
        "      <th>WT wins</th>\n",
        "      <th>LT wins</th>\n",
        "      <th>Win</th>\n",
        "      <th>Losing team</th>\n",
        "      <th>LT Record</th>\n",
        "      <th>LT relative record</th>\n",
        "      <th>WT_LT difference</th>\n",
        "    </tr>\n",
        "  </thead>\n",
        "  <tbody>\n",
        "    <tr>\n",
        "      <th>0</th>\n",
        "      <td> 1985</td>\n",
        "      <td>  St. Louis Cardinals</td>\n",
        "      <td> 101;61</td>\n",
        "      <td> 40</td>\n",
        "      <td> 4</td>\n",
        "      <td> 2</td>\n",
        "      <td> 6</td>\n",
        "      <td>  Los Angeles Dodgers</td>\n",
        "      <td>  95;67</td>\n",
        "      <td> 28</td>\n",
        "      <td> 12</td>\n",
        "    </tr>\n",
        "    <tr>\n",
        "      <th>1</th>\n",
        "      <td> 1986</td>\n",
        "      <td>        New York Mets</td>\n",
        "      <td> 108;54</td>\n",
        "      <td> 54</td>\n",
        "      <td> 4</td>\n",
        "      <td> 2</td>\n",
        "      <td> 6</td>\n",
        "      <td>       Houston Astros</td>\n",
        "      <td>  96;66</td>\n",
        "      <td> 30</td>\n",
        "      <td> 24</td>\n",
        "    </tr>\n",
        "    <tr>\n",
        "      <th>2</th>\n",
        "      <td> 1987</td>\n",
        "      <td>  St. Louis Cardinals</td>\n",
        "      <td>  95;67</td>\n",
        "      <td> 28</td>\n",
        "      <td> 4</td>\n",
        "      <td> 3</td>\n",
        "      <td> 7</td>\n",
        "      <td> San Francisco Giants</td>\n",
        "      <td>  90;72</td>\n",
        "      <td> 18</td>\n",
        "      <td> 10</td>\n",
        "    </tr>\n",
        "    <tr>\n",
        "      <th>3</th>\n",
        "      <td> 1988</td>\n",
        "      <td>  Los Angeles Dodgers</td>\n",
        "      <td>  94;67</td>\n",
        "      <td> 27</td>\n",
        "      <td> 4</td>\n",
        "      <td> 3</td>\n",
        "      <td> 7</td>\n",
        "      <td>        New York Mets</td>\n",
        "      <td> 100;60</td>\n",
        "      <td> 40</td>\n",
        "      <td>-13</td>\n",
        "    </tr>\n",
        "    <tr>\n",
        "      <th>4</th>\n",
        "      <td> 1989</td>\n",
        "      <td> San Francisco Giants</td>\n",
        "      <td>  93;69</td>\n",
        "      <td> 24</td>\n",
        "      <td> 4</td>\n",
        "      <td> 1</td>\n",
        "      <td> 5</td>\n",
        "      <td>         Chicago Cubs</td>\n",
        "      <td>  92;70</td>\n",
        "      <td> 22</td>\n",
        "      <td>  2</td>\n",
        "    </tr>\n",
        "    <tr>\n",
        "      <th>5</th>\n",
        "      <td> 1990</td>\n",
        "      <td>      Cincinnati Reds</td>\n",
        "      <td>  91;71</td>\n",
        "      <td> 20</td>\n",
        "      <td> 4</td>\n",
        "      <td> 2</td>\n",
        "      <td> 6</td>\n",
        "      <td>   Pittsburgh Pirates</td>\n",
        "      <td>  95;67</td>\n",
        "      <td> 28</td>\n",
        "      <td> -8</td>\n",
        "    </tr>\n",
        "  </tbody>\n",
        "</table>\n",
        "</div>"
       ],
       "metadata": {},
       "output_type": "pyout",
       "prompt_number": 101,
       "text": [
        "   Year          Winning team WT Record  WT relative record  WT wins  LT wins  \\\n",
        "0  1985   St. Louis Cardinals    101;61                  40        4        2   \n",
        "1  1986         New York Mets    108;54                  54        4        2   \n",
        "2  1987   St. Louis Cardinals     95;67                  28        4        3   \n",
        "3  1988   Los Angeles Dodgers     94;67                  27        4        3   \n",
        "4  1989  San Francisco Giants     93;69                  24        4        1   \n",
        "5  1990       Cincinnati Reds     91;71                  20        4        2   \n",
        "\n",
        "   Win           Losing team LT Record  LT relative record  WT_LT difference  \n",
        "0    6   Los Angeles Dodgers     95;67                  28                12  \n",
        "1    6        Houston Astros     96;66                  30                24  \n",
        "2    7  San Francisco Giants     90;72                  18                10  \n",
        "3    7         New York Mets    100;60                  40               -13  \n",
        "4    5          Chicago Cubs     92;70                  22                 2  \n",
        "5    6    Pittsburgh Pirates     95;67                  28                -8  "
       ]
      }
     ],
     "prompt_number": 101
    },
    {
     "cell_type": "markdown",
     "metadata": {},
     "source": [
      "Construct a histogram of the wins data."
     ]
    },
    {
     "cell_type": "code",
     "collapsed": false,
     "input": [
      "nl_hist_win, nl_bins_win=np.histogram(nl_lcs_res['Win'],bins=[4,5,6,7,8])"
     ],
     "language": "python",
     "metadata": {},
     "outputs": [],
     "prompt_number": 102
    },
    {
     "cell_type": "code",
     "collapsed": false,
     "input": [
      "# Check everything looks good\n",
      "print nl_hist_win  \n",
      "# print bins_win\n",
      "print (sum(nl_hist_win))"
     ],
     "language": "python",
     "metadata": {},
     "outputs": [
      {
       "output_type": "stream",
       "stream": "stdout",
       "text": [
        "[ 3  7 11  9]\n",
        "30\n"
       ]
      }
     ],
     "prompt_number": 103
    },
    {
     "cell_type": "code",
     "collapsed": false,
     "input": [
      "# Histogram centered on number of wins\n",
      "nl_wbin = 0.6 * (nl_bins_win[1] - nl_bins_win[0])\n",
      "nl_center = nl_bins_win[:-1] # more generally (bins_win[:-1] + bins_win[1:]) / 2\n",
      "plt.bar(nl_center, nl_hist_win, align='center', width=nl_wbin, fc=(0, 0, 1, 0.5))\n",
      "plt.locator_params(axis = 'x', nbins = 5)\n",
      "plt.xlabel('Wins', fontsize=14)\n",
      "plt.ylabel('Number', fontsize=14)\n",
      "plt.title('Histogram of wins by number for NL LCS', fontsize=16)\n",
      "plt.show()"
     ],
     "language": "python",
     "metadata": {},
     "outputs": [
      {
       "metadata": {},
       "output_type": "display_data",
       "png": "[encoded data removed]",
       "text": [
        "<matplotlib.figure.Figure at 0x108780b50>"
       ]
      }
     ],
     "prompt_number": 104
    },
    {
     "cell_type": "markdown",
     "metadata": {},
     "source": [
      "Calculate expected values for a coin toss."
     ]
    },
    {
     "cell_type": "code",
     "collapsed": false,
     "input": [
      "nl_trials = sum(nl_hist_win) # Number of trials (total number of LCS played)\n",
      "nl_pw_exp = np.zeros(4) # expected probability of wins from binomials trials for m= 4, 5, 6 and 7\n",
      "nl_win_exp = np.zeros(4) # expected number of wins from binomials trials for m= 4, 5, 6 and 7\n",
      "pp = 0.5 # probability of winning a single game\n",
      "# Probability of win in m games with m= 4, 5, 6 and 7\n",
      "nl_pw_exp[0] = pp**4+(1-pp)**4\n",
      "nl_pw_exp[1] = 4*pp*(1-pp)*(pp**3+(1-pp)**3)\n",
      "nl_pw_exp[2] = 10*pp**2*(1-pp)**2*(pp**2+(1-pp)**2)\n",
      "nl_pw_exp[3] = 20*pp**3*(1-pp)**3\n",
      "\n",
      "for i in xrange(4):\n",
      "    nl_win_exp[i]=trials*nl_pw_exp[i]\n",
      "# Check values are sensible    \n",
      "print(nl_pw_exp)\n",
      "print(nl_win_exp)"
     ],
     "language": "python",
     "metadata": {},
     "outputs": [
      {
       "output_type": "stream",
       "stream": "stdout",
       "text": [
        "[ 0.125   0.25    0.3125  0.3125]\n",
        "[ 3.75   7.5    9.375  9.375]\n"
       ]
      }
     ],
     "prompt_number": 105
    },
    {
     "cell_type": "markdown",
     "metadata": {},
     "source": [
      "Compare actual and expected wins. Include standard error in expected wins as error bars."
     ]
    },
    {
     "cell_type": "code",
     "collapsed": false,
     "input": [
      "nl_win_exp_err=np.zeros(4)\n",
      "nl_wbin = 0.6 * (bins_win[1] - bins_win[0])\n",
      "nl_center = bins_win[:-1] # more generally (bins_win[:-1] + bins_win[1:]) / 2\n",
      "# Expected error\n",
      "for i in xrange(4):\n",
      "    nl_win_exp_err[i]=np.sqrt(nl_win_exp[i]*(1-nl_pw_exp[i]))   \n",
      "plt.bar(center, nl_hist_win, align='center', width=nl_wbin, fc=(0, 0, 1, 0.5), label='data')\n",
      "plt.bar(center, nl_win_exp, align='center', width=nl_wbin, fc=(1, 1, 1, 0.0), label='expected',linestyle='dashed',yerr=win_exp_err)\n",
      "# plt.bar(center, win_exp_max, align='center', width=wbin, fc=(0, 1, 0, 0.0), label='min_deviation',linestyle='dashed')\n",
      "# plt.bar(center, win_exp_min, align='center', width=wbin, fc=(1, 0, 0, 0.0), label='min',linestyle='dashed')\n",
      "plt.locator_params(axis = 'x', nbins = 5)\n",
      "plt.xlabel('Wins', fontsize=14)\n",
      "plt.ylabel('Number', fontsize=14)\n",
      "plt.title('Histogram of wins by number for NL LCS', fontsize=16)\n",
      "plt.legend(loc='upper left')\n",
      "plt.show()"
     ],
     "language": "python",
     "metadata": {},
     "outputs": [
      {
       "metadata": {},
       "output_type": "display_data",
       "png": "[encoded data removed]",
       "text": [
        "<matplotlib.figure.Figure at 0x108772490>"
       ]
      }
     ],
     "prompt_number": 106
    },
    {
     "cell_type": "markdown",
     "metadata": {},
     "source": [
      "The two distributions look similar and look identical within the error bars. Confirm this with a chi-square test as before. Choose a significance level of 0.05.\n"
     ]
    },
    {
     "cell_type": "code",
     "collapsed": false,
     "input": [
      "chisq_stats=stats.chisquare(nl_hist_win,nl_win_exp,ddof=0)\n",
      "print(chisq_stats)"
     ],
     "language": "python",
     "metadata": {},
     "outputs": [
      {
       "output_type": "stream",
       "stream": "stdout",
       "text": [
        "(0.47999999999999998, 0.92326283471802517)\n"
       ]
      }
     ],
     "prompt_number": 107
    },
    {
     "cell_type": "markdown",
     "metadata": {},
     "source": [
      "As expected, chi-square is small and the null hypothesis\u2014the observations are due to chance (a fair coin toss)\u2014cannot be rejected."
     ]
    },
    {
     "cell_type": "markdown",
     "metadata": {},
     "source": [
      "By playing around with the value of $p$, I discovered that $0.70 \\geq p \\geq 0.30$ also can't be rejected. \n",
      "Note: $\\chi^{2}(p)=\\chi^{2}(1-p)$ due to the symmetry of $p(m)$."
     ]
    },
    {
     "cell_type": "markdown",
     "metadata": {},
     "source": [
      "As before, assume a different null hypothesis: the NL LCS results are described by a coin toss that is not necessarilty fair, with an unknown probability. Then I can use a minimum chi-square test to assign a value for $p$"
     ]
    },
    {
     "cell_type": "code",
     "collapsed": false,
     "input": [
      "# Stepwise minimization\n",
      "q_init=0.5\n",
      "q_max=1\n",
      "q_min=0.5\n",
      "func_init=(chisq2(q_init, nl_hist_win))\n",
      "\n",
      "# A simple minimization\n",
      "step=100000\n",
      "for i in xrange(step):\n",
      "    q = i*(q_max-q_min)/step + q_init # q = -i*(q_max-q_min)/1000 + q_init checks for q < 0.5 minimum\n",
      "    func = (chisq2(q, nl_hist_win))\n",
      "    if func <= func_init:\n",
      "        func_init = func\n",
      "    else:\n",
      "        print('\\nMinimum chi-square is %.5f at p = %.3f or p = %.3f' % (func, q, 1-q))\n",
      "        break\n",
      "        "
     ],
     "language": "python",
     "metadata": {},
     "outputs": [
      {
       "output_type": "stream",
       "stream": "stdout",
       "text": [
        "\n",
        "Minimum chi-square is 0.48000 at p = 0.500 or p = 0.500\n"
       ]
      }
     ],
     "prompt_number": 108
    },
    {
     "cell_type": "markdown",
     "metadata": {},
     "source": [
      "Minimum is for a fair coin."
     ]
    },
    {
     "cell_type": "markdown",
     "metadata": {},
     "source": [
      "<font color='green'>Conclusion II:</font>The NL LCS seems like a coin toss to me, just as I found with the AL LCS and WS."
     ]
    },
    {
     "cell_type": "markdown",
     "metadata": {},
     "source": [
      "<font color='green'>Final Thoughts:</font>I now have more evidence that baseball is consistent with a fair coin toss.\n",
      "\n",
      "The above analysis hints that the AL is less random that the NL. Indeed, the dominance of the Yankess (AL) in the history of the sport is hard to explain on a purely random basis. Preliminary analyis of the Yankees performance lends some support to this idea (Yankees 27 WS wins out of 40 appearances leads to a rejection of the null hypothesis\u2014fair coin toss\u2014at the 0.05 level, but not at the 0.01 level). \n",
      "\n",
      "There is other evidence that the AL and NL differ. In the AL, the LCS was won by the time with the better win-loss record 20 out of the last 30 times. For the NL, the LCS was won by the nominally better team only 14 out of the last 30 times, and these two results are different at the 0.05 level.\n",
      "\n",
      "If baseball is truly random, this should be seen during the regular season as well. I think it is time to look at all the games, not just the post-season. "
     ]
    },
    {
     "cell_type": "code",
     "collapsed": false,
     "input": [],
     "language": "python",
     "metadata": {},
     "outputs": []
    }
   ],
   "metadata": {}
  }
 ]
}