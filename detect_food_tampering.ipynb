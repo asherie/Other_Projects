{
 "metadata": {
  "name": ""
 },
 "nbformat": 3,
 "nbformat_minor": 0,
 "worksheets": [
  {
   "cells": [
    {
     "cell_type": "markdown",
     "metadata": {},
     "source": [
      "# Testing a data prediction model: detect food tampering #\n",
      "### Notebook by Neer Asherie ###"
     ]
    },
    {
     "cell_type": "markdown",
     "metadata": {},
     "source": [
      "**Summary:** I analyze a food tampering problem in order to better understand some aspects of data prediction. The model is given below.   \n",
      "<br />\n",
      "You are an explorer in a deep and long valley. Food is delivered to you by an airlift that tries to drop the food at the center of the valley (the origin). Due to some uncertainties in the drop, the food lands randomly scattered around the center. Also, you are unable to collect the food right away. While the food is on the ground, there is a chance an animal will come by at pick up the food package. It will then carry the food for some distance in a random direction only to drop it again.  \n",
      "<br />\n",
      "**Question:** How would you determine whether a food package has been touched by an animal when all you know is its location relative to the origin? (Purpose: You will eat only those packages that haven't been touched by an animal.)  \n",
      "<br />\n",
      "There are three parameters in the problem: the spread in locations due to the airdrop, the spread due to the animals and the probability an animal will pick up a package. While limiting cases (e.g., spread due to airdrop is much less than that due to animals) can be analyzed without detailed calculations, it would be best to have an algorithm that can tackle many different scenarios. \n",
      "<br />  \n",
      "**Conclusion:**The model I outline below works well if animals cause significant change in the distribution of packages, but if they don't, the percentage of correct assignments is low."
     ]
    },
    {
     "cell_type": "heading",
     "level": 3,
     "metadata": {},
     "source": [
      "Analysis"
     ]
    },
    {
     "cell_type": "markdown",
     "metadata": {},
     "source": [
      "Let the probability of the airdrop occuring between $x$ and $x+dx$ from the origin be $p_{1}(x)$ with $ -a \\leq x \\leq a$.  \n",
      "Let the probability of an animal picking up a package be $f$ (assumed constant).  \n",
      "Let the probability that an animal moves the package a distance between $w$ and $w+dw$ be $p_{2}(w)$ with $ -b \\leq w \\leq b$.  ."
     ]
    },
    {
     "cell_type": "markdown",
     "metadata": {},
     "source": [
      "The probability $p(x)$ of finding a package between $x$ and $x+dx$ is "
     ]
    },
    {
     "cell_type": "markdown",
     "metadata": {},
     "source": [
      "$p(x) = \\underbrace{(1-f)p_{1}(x)}_{\\large p_{i}(x)}+\\underbrace{f\\int_{-a}^{a}p_{1}(x')p_{2}(x-x')dx'}_{\\large p_{s}(x)}$ \n"
     ]
    },
    {
     "cell_type": "markdown",
     "metadata": {},
     "source": [
      "The first term on the RHS\u2014denoted by $p_{i}(x)$\u2014is the probability the package landed at $x$ and wasn't moved by an animal. (<em>Mnemonic:</em> subscript $i$ is for \"immobile.\")  \n",
      "The second term\u2014denoted by $p_{s}(x)$\u2014is the probability that the pacakge landed at $x'$ and was moved by an aminal to $x$ i.e., it was moved a distance $x-x'$. (<em>Mnemonic:</em> subscript $s$ is for \"shifted.\")"
     ]
    },
    {
     "cell_type": "markdown",
     "metadata": {},
     "source": [
      "<font color='green'>Conceptual Solution:</font>  \n",
      "1. Assume some form for $p_{1}(x)$ and $p_{2}(x)$  \n",
      "2. Use the training set to determine $f$ and the parameters that characterize $p_{1}(x)$ and $p_{2}(x)$  \n",
      "3. For each instance in the test set, determine $p_{i}(x)$ and $p_{s}(x)$  \n",
      "4. If $p_{i}(x)$ > $p_{s}(x)$, assign instance to immobile category    \n",
      "5. If $p_{i}(x) \\leq p_{s}(x)$, assign instance to shifted category  \n",
      "(If I wanted to be strict, I could consider the case of $p_{i}(x)$ = $p_{s}(x)$ separately, and for this unlikely scenario assign the instance to one of the categories at random.)    "
     ]
    },
    {
     "cell_type": "markdown",
     "metadata": {},
     "source": [
      "<font color='green'>Algorithm:</font>  "
     ]
    },
    {
     "cell_type": "markdown",
     "metadata": {},
     "source": [
      "Consider the case that $p_{1}(x)$ and $p_{2}(x)$ are normally distributed with standard deviations of $\\sigma_{1}$ and $\\sigma_{2}$ repsectively. That is  \n",
      "\n",
      "$p_{1}(x) = {\\large\\frac{1}{\\sqrt{2\\pi\\sigma_{1}^{2}}}}\\exp{-{\\large\\frac{x^2}{2\\sigma_{1}^{2}}}}$  \n",
      "\n",
      "and  \n",
      "\n",
      "$p_{2}(x) = {\\large\\frac{1}{\\sqrt{2\\pi\\sigma_{2}^{2}}}}\\exp{-{\\large\\frac{x^2}{2\\sigma_{2}^{2}}}}$\n",
      "    "
     ]
    },
    {
     "cell_type": "markdown",
     "metadata": {},
     "source": [
      "Substituing these equations into the one above for $p(x)$ gives:"
     ]
    },
    {
     "cell_type": "markdown",
     "metadata": {},
     "source": [
      "$p(x) = {\\large\\frac{1-f}{\\sqrt{2\\pi\\sigma_{1}^{2}}}}\\exp{-{\\large\\frac{x^2}{2\\sigma_{1}^{2}}}} +{\\large\\frac{f}{\\sqrt{2\\pi(\\sigma_{1}^{2}+\\sigma_{2}^{2})}}}\\exp{-{\\large\\frac{x^2}{2(\\sigma_{1}^{2}+\\sigma_{2}^{2})}}}$ "
     ]
    },
    {
     "cell_type": "markdown",
     "metadata": {},
     "source": [
      "I will use this result to determine $f$, $\\sigma_{1}$ and $\\sigma_{2}$ from the training data."
     ]
    },
    {
     "cell_type": "markdown",
     "metadata": {},
     "source": [
      "Load modules"
     ]
    },
    {
     "cell_type": "code",
     "collapsed": false,
     "input": [
      "%matplotlib inline\n",
      "import datetime\n",
      "import pandas as pd\n",
      "import pandas.io.data\n",
      "import matplotlib.pyplot as plt\n",
      "import numpy as np\n",
      "import scipy as sp\n",
      "import scipy.stats as stats"
     ],
     "language": "python",
     "metadata": {},
     "outputs": [],
     "prompt_number": 3
    },
    {
     "cell_type": "markdown",
     "metadata": {},
     "source": [
      "Initialize parameters"
     ]
    },
    {
     "cell_type": "code",
     "collapsed": false,
     "input": [
      "np.random.seed(7)\n",
      "sigma1 = 1.0 # standard deviation of airdrop\n",
      "sigma2 = 4.0 # standard deviation of shift by animal\n",
      "sample = 1000 # sample size\n",
      "f_animal = 0.1 # probability animal shifts food\n",
      "num_bin = 20 # number of bins in histograms"
     ],
     "language": "python",
     "metadata": {},
     "outputs": [],
     "prompt_number": 4
    },
    {
     "cell_type": "markdown",
     "metadata": {},
     "source": [
      "Create initial airdrop locations."
     ]
    },
    {
     "cell_type": "code",
     "collapsed": false,
     "input": [
      "airdrop=np.random.normal(0,sigma1,sample)    "
     ],
     "language": "python",
     "metadata": {},
     "outputs": [],
     "prompt_number": 18
    },
    {
     "cell_type": "markdown",
     "metadata": {},
     "source": [
      "Plot airdrop data to check it looks normally distributed."
     ]
    },
    {
     "cell_type": "code",
     "collapsed": false,
     "input": [
      "plt.hist(airdrop, bins = num_bin)\n",
      "plt.xlabel('Distance', fontsize=14)\n",
      "plt.ylabel('Number', fontsize=14)\n",
      "plt.title('Distribution of Airdrops', fontsize=16)\n",
      "plt.show()"
     ],
     "language": "python",
     "metadata": {},
     "outputs": [
      {
       "metadata": {},
       "output_type": "display_data",
       "png": "[encoded data removed]",
       "text": [
        "<matplotlib.figure.Figure at 0x10881a9d0>"
       ]
      }
     ],
     "prompt_number": 19
    },
    {
     "cell_type": "markdown",
     "metadata": {},
     "source": [
      "Generate dataset with shifting by animals."
     ]
    },
    {
     "cell_type": "code",
     "collapsed": false,
     "input": [
      "full_data=np.zeros(sample)  # For final data\n",
      "shifted_true=np.zeros(sample, dtype=np.int)    # Keeps track of which points were shifted by animals\n",
      "# Generate the dataset\n",
      "for i in range(sample): \n",
      "    full_data[i] = airdrop[i]\n",
      "    if np.random.uniform() <= f_animal:\n",
      "        full_data[i] += np.random.normal(0,sigma2)\n",
      "        shifted_true[i] = 1.0 "
     ],
     "language": "python",
     "metadata": {},
     "outputs": [],
     "prompt_number": 7
    },
    {
     "cell_type": "markdown",
     "metadata": {},
     "source": [
      "Construct a probability distribution for the full data (with animal shift). Start by construting a histogram and then normalize it."
     ]
    },
    {
     "cell_type": "code",
     "collapsed": false,
     "input": [
      "hist_full, bins_full=np.histogram(full_data, bins = num_bin)\n",
      "bins_full = bins_full[:-1] + (bins_full[1]-bins_full[0])/2 # convert bin edges to centers\n"
     ],
     "language": "python",
     "metadata": {},
     "outputs": [],
     "prompt_number": 8
    },
    {
     "cell_type": "code",
     "collapsed": false,
     "input": [
      "plt.hist(full_data, bins = num_bin)\n",
      "plt.xlabel('Distance', fontsize=14)\n",
      "plt.ylabel('Number', fontsize=14)\n",
      "plt.title('Histogram of Distances with Animal Shift', fontsize=16)\n",
      "plt.show()"
     ],
     "language": "python",
     "metadata": {},
     "outputs": [
      {
       "metadata": {},
       "output_type": "display_data",
       "png": "[encoded data removed]",
       "text": [
        "<matplotlib.figure.Figure at 0x10849bc50>"
       ]
      }
     ],
     "prompt_number": 9
    },
    {
     "cell_type": "code",
     "collapsed": false,
     "input": [
      "freq_full=hist_full/float(sample) # To get a frequency distribution, normalize by sample size\n",
      "\n",
      "# Histogram normalized so that intergral (area under curve) is one\n",
      "freq_hist = plt.hist(full_data, bins=num_bin, normed=1)\n",
      "plt.xlabel('Distance', fontsize=14)\n",
      "plt.ylabel('Probability', fontsize=14)\n",
      "plt.title('Frequency of Packages by Distance', fontsize=16)\n",
      "plt.show()\n",
      "freq_full2 =freq_hist[0]\n"
     ],
     "language": "python",
     "metadata": {},
     "outputs": [
      {
       "metadata": {},
       "output_type": "display_data",
       "png": "[encoded data removed]",
       "text": [
        "<matplotlib.figure.Figure at 0x1084cc450>"
       ]
      }
     ],
     "prompt_number": 10
    },
    {
     "cell_type": "markdown",
     "metadata": {},
     "source": [
      "Plot looks good. Lines are narrow because width of bars changes with sample size."
     ]
    },
    {
     "cell_type": "markdown",
     "metadata": {},
     "source": [
      "Now fit data with known functional form (in this case, $p(x)$ above) to estimate parameters. "
     ]
    },
    {
     "cell_type": "code",
     "collapsed": false,
     "input": [
      "# Least squares fit\n",
      "from numpy import array, pi\n",
      "x = bins_full\n",
      "y_true = (1-f_animal)/(np.sqrt(2*pi*sigma1**2))*np.exp(-x**2/(2*sigma1**2)) + f_animal/(np.sqrt(2*pi*(sigma1**2+sigma2**2)))*np.exp(-x**2/(2*(sigma1**2+sigma2**2)))\n",
      "y_meas = freq_full2\n",
      "\n",
      "\n",
      "# Initial guess for parameters f, sigma1, sigma2\n",
      "p0 = np.zeros(3)\n",
      "p0[0] = 0.2  # f\n",
      "p0[1] = 1.0  # sigma1\n",
      "p0[2] = 3.5  # sigma2\n",
      "\n",
      "print('\\nInitial guess')\n",
      "print(array(p0))\n",
      "\n",
      "def residuals(p, y, x):\n",
      "    if p[0] >= 0 and p[0] <= 1 and p[1] > 0 and p[2] > 0: # only reasonable values of f_animal, sigma1 and sigma2 allowed\n",
      "        f, sig1, sig2 = p \n",
      "        err = y - (1-f)/(np.sqrt(2*pi*sig1**2))*np.exp(-x**2/(2*sig1**2)) - f/(np.sqrt(2*pi*(sig1**2+sig2**2)))*np.exp(-x**2/(2*(sig1**2+sig2**2)))\n",
      "        return err\n",
      "    else:\n",
      "        return 1e8\n",
      "\n",
      "from scipy.optimize import leastsq\n",
      "plsq2 = leastsq(residuals, p0, args=(y_meas, x), full_output=True)\n",
      "print('\\nFinal result')\n",
      "print(plsq2[0])\n",
      "print('\\nTrue parameters')\n",
      "p_true = [f_animal, sigma1, sigma2]\n",
      "print(array(p_true))"
     ],
     "language": "python",
     "metadata": {},
     "outputs": [
      {
       "output_type": "stream",
       "stream": "stdout",
       "text": [
        "\n",
        "Initial guess\n",
        "[ 0.2  1.   3.5]\n",
        "\n",
        "Final result\n",
        "[ 0.11299781  0.9939355   4.0806574 ]\n",
        "\n",
        "True parameters\n",
        "[ 0.1  1.   4. ]\n"
       ]
      }
     ],
     "prompt_number": 11
    },
    {
     "cell_type": "code",
     "collapsed": false,
     "input": [
      "def peval(x, q):\n",
      "    return (1 - q[0])/(np.sqrt(2*pi*q[1]**2))*np.exp(-x**2/(2*q[1]**2)) + q[0]/(np.sqrt(2*pi*(q[1]**2+q[2]**2)))*np.exp(-x**2/(2*(q[1]**2+q[2]**2)))"
     ],
     "language": "python",
     "metadata": {},
     "outputs": [],
     "prompt_number": 12
    },
    {
     "cell_type": "code",
     "collapsed": false,
     "input": [
      "plt.plot(x, peval(x, plsq2[0]), x, y_meas, 'o', x, y_true)\n",
      "plt.title('Least-squares fit to data')\n",
      "plt.legend(['Fit', 'Noisy', 'True'])\n",
      "plt.show()"
     ],
     "language": "python",
     "metadata": {},
     "outputs": [
      {
       "metadata": {},
       "output_type": "display_data",
       "png": "[encoded data removed]",
       "text": [
        "<matplotlib.figure.Figure at 0x1084bfa50>"
       ]
      }
     ],
     "prompt_number": 13
    },
    {
     "cell_type": "markdown",
     "metadata": {},
     "source": [
      "Fit looks reasonable. In fact, for some parameters, it is hard to distingush the fit from the true distribution."
     ]
    },
    {
     "cell_type": "markdown",
     "metadata": {},
     "source": [
      "Use fitted parameters to assign data to immobile and shifted categories. First, see how well this works with the training dataset."
     ]
    },
    {
     "cell_type": "code",
     "collapsed": false,
     "input": [
      "def p_immobile(x, q):\n",
      "    return (1 - q[0])/(np.sqrt(2*pi*q[1]**2))*np.exp(-x**2/(2*q[1]**2))"
     ],
     "language": "python",
     "metadata": {},
     "outputs": [],
     "prompt_number": 14
    },
    {
     "cell_type": "code",
     "collapsed": false,
     "input": [
      "def p_shifted(x, q):\n",
      "    return q[0]/(np.sqrt(2*pi*(q[1]**2+q[2]**2)))*np.exp(-x**2/(2*(q[1]**2+q[2]**2)))"
     ],
     "language": "python",
     "metadata": {},
     "outputs": [],
     "prompt_number": 15
    },
    {
     "cell_type": "code",
     "collapsed": false,
     "input": [
      "shifted = np.zeros(sample, dtype=np.int) \n",
      "  \n",
      "for i in range(sample): \n",
      "      if  p_shifted(full_data[i], plsq2[0]) >= p_immobile(full_data[i], plsq2[0]):\n",
      "          shifted[i]=1.0  \n",
      "bias = shifted - shifted_true\n",
      "false_pos = 0  \n",
      "false_neg = 0\n",
      "correct = 0\n",
      "for i in range(sample): \n",
      "    if  bias[i] == 1:\n",
      "        false_pos += 1 \n",
      "    elif bias[i] == -1:\n",
      "        false_neg += 1\n",
      "    elif bias[i] == 0:\n",
      "        correct += 1\n",
      "print('\\nSample statistics')\n",
      "print('\\nNumber of airdrops is %i' % sample)\n",
      "print('Number of estimated shifts by animals %i' % sum(shifted))\n",
      "print('Number of true shifts %i' % sum(shifted_true))\n",
      "print('Number of false positive is %i' % false_pos)\n",
      "print('Number of false negative is %i' % false_neg)\n",
      "print('Number of correct assignments is %i' % correct)\n",
      "percent_correct = 100.0 * float(correct) / float(sample)\n",
      "print('Percentage overall correct is %.2f' % percent_correct)\n",
      "\n",
      "\n",
      "print('\\nCheck 1:')\n",
      "print('Correct + false positive + false negative (%i) should be the same as number of airdrops (%i)' % ((correct + false_pos + false_neg), sample)) \n",
      "print('\\nCheck 2:')\n",
      "print('Estimated shifts - false positive + false negative (%i) should be the same as true shifts (%i)' % ((sum(shifted) - false_pos + false_neg), sum(shifted_true)))"
     ],
     "language": "python",
     "metadata": {},
     "outputs": [
      {
       "output_type": "stream",
       "stream": "stdout",
       "text": [
        "\n",
        "Sample statistics\n",
        "\n",
        "Number of airdrops is 1000\n",
        "Number of estimated shifts by animals 62\n",
        "Number of true shifts 106\n",
        "Number of false positive is 6\n",
        "Number of false negative is 50\n",
        "Number of correct assignments is 944\n",
        "Percentage overall correct is 94.40\n",
        "\n",
        "Check 1:\n",
        "Correct + false positive + false negative (1000) should be the same as number of airdrops (1000)\n",
        "\n",
        "Check 2:\n",
        "Estimated shifts - false positive + false negative (106) should be the same as true shifts (106)\n"
       ]
      }
     ],
     "prompt_number": 16
    },
    {
     "cell_type": "markdown",
     "metadata": {},
     "source": [
      "I was able to successfully assign the packages to the two different catergories. Works well if animals cause significant change in the distribution, but if they don't the percentage of correct assignement is low."
     ]
    },
    {
     "cell_type": "markdown",
     "metadata": {},
     "source": [
      "Now apply to test dataset, where all parameters are the same except for sample size. Since test and training datasets have the same underlying distribution, I expect to see the same trends (in terms of success rate) for both datasets."
     ]
    },
    {
     "cell_type": "code",
     "collapsed": false,
     "input": [
      "# Use code for training dataset, but add to relevant arrays and parameters \"_test\" to denote test dataset\n",
      "\n",
      "np.random.seed(8)\n",
      "sample_test = 10000 # sample size\n",
      "\n",
      "# Create airdrop locations\n",
      "airdrop_test=np.random.normal(0,sigma1,sample_test)\n",
      "\n",
      "# # Generate the dataset\n",
      "full_data_test=np.zeros(sample_test)  # For final data\n",
      "shifted_true_test=np.zeros(sample_test, dtype=np.int)    # Keeps track of which points were shifted by animals\n",
      "for i in range(sample_test): \n",
      "    full_data_test[i] = airdrop_test[i]\n",
      "    if np.random.uniform() <= f_animal:\n",
      "        full_data_test[i] += np.random.normal(0,sigma2)\n",
      "        shifted_true_test[i] = 1.0 \n",
      "\n",
      "shifted_test = np.zeros(sample_test, dtype=np.int) \n",
      "  \n",
      "for i in range(sample_test): \n",
      "      if  p_shifted(full_data_test[i], plsq2[0]) >= p_immobile(full_data_test[i], plsq2[0]):\n",
      "          shifted_test[i]=1.0  \n",
      "bias_test = shifted_test - shifted_true_test\n",
      "false_pos_test = 0  \n",
      "false_neg_test = 0\n",
      "correct_test = 0\n",
      "for i in range(sample_test): \n",
      "    if  bias_test[i] == 1:\n",
      "        false_pos_test += 1 \n",
      "    elif bias_test[i] == -1:\n",
      "        false_neg_test += 1\n",
      "    elif bias_test[i] == 0:\n",
      "        correct_test += 1\n",
      "print('\\nSample statistics for test dataset')\n",
      "print('\\nNumber of airdrops is %i' % sample_test)\n",
      "print('Number of estimated shifts by animals %i' % sum(shifted_test))\n",
      "print('Number of true shifts %i' % sum(shifted_true_test))\n",
      "print('Number of false positive is %i' % false_pos_test)\n",
      "print('Number of false negative is %i' % false_neg_test)\n",
      "print('Number of correct assignments is %i' % correct_test)\n",
      "percent_correct_test = 100.0 * float(correct_test) / float(sample_test)\n",
      "print('Percentage overall correct is %.2f' % percent_correct_test)\n",
      "\n",
      "\n",
      "print('\\nCheck 1:')\n",
      "print('Correct + false positive + false negative (%i) should be the same as number of airdrops (%i)' % ((correct_test + false_pos_test + false_neg_test), sample_test)) \n",
      "print('\\nCheck 2:')\n",
      "print('Estimated shifts - false positive + false negative (%i) should be the same as true shifts (%i)' % ((sum(shifted_test) - false_pos_test + false_neg_test), sum(shifted_true_test)))        "
     ],
     "language": "python",
     "metadata": {},
     "outputs": [
      {
       "output_type": "stream",
       "stream": "stdout",
       "text": [
        "\n",
        "Sample statistics for test dataset\n",
        "\n",
        "Number of airdrops is 10000\n",
        "Number of estimated shifts by animals 615\n",
        "Number of true shifts 1078\n",
        "Number of false positive is 61\n",
        "Number of false negative is 524\n",
        "Number of correct assignments is 9415\n",
        "Percentage overall correct is 94.15\n",
        "\n",
        "Check 1:\n",
        "Correct + false positive + false negative (10000) should be the same as number of airdrops (10000)\n",
        "\n",
        "Check 2:\n",
        "Estimated shifts - false positive + false negative (1078) should be the same as true shifts (1078)\n"
       ]
      }
     ],
     "prompt_number": 17
    },
    {
     "cell_type": "markdown",
     "metadata": {},
     "source": [
      "Indeed, sample statistics for test dataset are almost indentical to that of training dataset."
     ]
    },
    {
     "cell_type": "markdown",
     "metadata": {},
     "source": [
      "Further challenges to investigate: parameters are such that probability distribution doesn't change much; underlying distribution is unknown; higher dimensions."
     ]
    }
   ],
   "metadata": {}
  }
 ]
}