{
 "metadata": {
  "name": ""
 },
 "nbformat": 3,
 "nbformat_minor": 0,
 "worksheets": [
  {
   "cells": [
    {
     "cell_type": "markdown",
     "metadata": {},
     "source": [
      "# Is the World Series random? #\n",
      "### Notebook by Neer Asherie ###"
     ]
    },
    {
     "cell_type": "markdown",
     "metadata": {},
     "source": [
      "**Summary:** I analyze historical World Series results to test whether the outcomes can be modeled as a fair coin toss i.e., I check whether the outcome is determined by chance.   \n",
      "<br />\n",
      "**Conclusion:** The World Series results can be explained by chance, suggesting that the skill of the two teams is not an essential factor in the outcome. Further work should be carried out to verify the robustness of this claim and to explore possibilities for making money. "
     ]
    },
    {
     "cell_type": "heading",
     "level": 3,
     "metadata": {},
     "source": [
      "Introduction"
     ]
    },
    {
     "cell_type": "markdown",
     "metadata": {},
     "source": [
      "During the recent (2015) World Series (WS) between the Royals and the Mets, I repeatedly came across statistical claims about how well past teams fared when they were down 2-0 or 3-1 (as the Mets were). For example, the WSJ stated that \"Thirty-nine of the 45 teams to fall behind 3-1 in the World Series wound up losing.\" (See http://www.wsj.com/articles/royals-beat-mets-in-game-4-after-murphy-mistake-1446361511). In other words, 6 out of 45 or 0.133 of the teams managed to win the last three games to stage a 4-3 comeback.\n",
      "\n",
      "If the probability to win a single game were 0.5, the the probability to win three games in a row would be 0.5^3=0.125, which is close to the value of 0.133 above. This finding and others like it made me wonder whether the World Series is random or more precisely, whether the results can be distinguished from a fair coin toss.\n",
      "\n",
      "To test this idea, I analyze below historical data from the World Series. Specifically, I compare the number of times a team has won the WS in 4, 5, 6 o 7 games with the number of times expected for a binomial trial. Initally, I consider the case of a fair coin with $p=1/2$ and then I present the results for an arbitray probability $p$."
     ]
    },
    {
     "cell_type": "heading",
     "level": 3,
     "metadata": {},
     "source": [
      "Data"
     ]
    },
    {
     "cell_type": "markdown",
     "metadata": {},
     "source": [
      "I use the data for the Modern World Series (1903-2015) discarding the years that weren't played best of seven (1903, 1919, 1920 and 1921) or had ties (1907, 1912 and 1922). Also, the WS wasn't played in 1904 or 1994 due to labor disputes. See https://en.wikipedia.org/wiki/List_of_World_Series_champions for the raw data. \n",
      "\n",
      "I used Google spreadsheets to scrape the Wikipedia data (following instructions at http://blog.ouseful.info/2008/10/14/data-scraping-wikipedia-with-google-spreadsheets/) and downloaded it as an Excel spreasheet (world_series_results.xlsx). I then cleaned the data, removing the 9 problematic years above. Also, I calculated the total number of games played in each series (see world_series_results_cleaned2.xlsx for details). Finally, I saved it as a csv (world_series_results_cleaned3.csv).\n",
      "\n"
     ]
    },
    {
     "cell_type": "heading",
     "level": 3,
     "metadata": {},
     "source": [
      "Analysis"
     ]
    },
    {
     "cell_type": "markdown",
     "metadata": {},
     "source": [
      "Let the probability that team A wins a single game be $p$. The probabily that team B wins again is therefore $1-p$. \n",
      "\n",
      "Let $p_{i}(m)$ be the probability team $i$ ($i$ is A or B) wins the series in m games, where $ 7 \\geq m \\geq 4$. \n",
      "\n",
      "Assuming a binomial trial:\n",
      "\n",
      "$p_{A}(4)= p^4$ \n",
      "\n",
      "$p_{B}(4)=(1-p)^4$\n",
      "\n",
      "$p_{A}(5)=\\binom{4}{1}p^4(1-p)=4p^4(1-p)$ \n",
      "\n",
      "$p_{B}(5)=\\binom{4}{1}(1-p)^4p=4(1-p)^4p$\n",
      "\n",
      "$p_{A}(6)=\\binom{5}{2}p^4(1-p)^2=10p^4(1-p)^2$ \n",
      "\n",
      "$p_{B}(6)=\\binom{5}{2}(1-p)^4p^2=10(1-p)^4p^2$\n",
      "\n",
      "$p_{A}(7)=\\binom{6}{3}p^4(1-p)^3=20p^4(1-p)^3$  \n",
      "\n",
      "$p_{B}(7)=\\binom{6}{3}(1-p)^4p^3=20(1-p)^4p^3$"
     ]
    },
    {
     "cell_type": "markdown",
     "metadata": {},
     "source": [
      "Note that if $p \\rightarrow (1-p)$ then $p_{A}(m)$ becomes $p_{B}(m)$ and vice-versa as expected.\n"
     ]
    },
    {
     "cell_type": "markdown",
     "metadata": {},
     "source": [
      "Let the probability of someone winning the series in $m$ games be $p(m)$. Then $p(m)=p_{A}(m)+p_{B}(m)$ is given by"
     ]
    },
    {
     "cell_type": "markdown",
     "metadata": {},
     "source": [
      "$p(4)= p^4+(1-p)^4$ \n",
      "\n",
      "$p(5)= 4p(1-p)[p^3+(1-p)^3]$ \n",
      "\n",
      "$p(6)=10p^2(1-p)^2[p^2+(1-p)^2]$ \n",
      "\n",
      "$p(7)=20p^3(1-p)^3$"
     ]
    },
    {
     "cell_type": "markdown",
     "metadata": {},
     "source": [
      "I checked that $\\sum_{m=4}^{7}p(m)=1$ \n",
      "\n",
      "<font color='green'>Note:</font>  For a fair coin, $p=0.5$, so \n",
      "\n",
      "$p(4)=0.125;~p(5)=0.25;~p(6)=0.3125;~p(7)=0.3125$\n"
     ]
    },
    {
     "cell_type": "markdown",
     "metadata": {},
     "source": [
      "Now, calculate $p(m)$ from the data and compare with the results above."
     ]
    },
    {
     "cell_type": "markdown",
     "metadata": {},
     "source": [
      "Load modules"
     ]
    },
    {
     "cell_type": "code",
     "collapsed": false,
     "input": [
      "%matplotlib inline\n",
      "import os\n",
      "import datetime\n",
      "import pandas as pd\n",
      "import pandas.io.data\n",
      "import matplotlib.pyplot as plt\n",
      "import numpy as np\n",
      "import scipy as sp\n",
      "import scipy.stats as stats  \n",
      "import scipy.optimize as opt"
     ],
     "language": "python",
     "metadata": {},
     "outputs": [],
     "prompt_number": 1
    },
    {
     "cell_type": "markdown",
     "metadata": {},
     "source": [
      "Load data"
     ]
    },
    {
     "cell_type": "code",
     "collapsed": false,
     "input": [
      "wsres = pd.read_csv('/Users/asherie/World_Series/world_series_results_cleaned3.csv') \n",
      "wsres"
     ],
     "language": "python",
     "metadata": {},
     "outputs": [
      {
       "html": [
        "<pre>\n",
        "&lt;class 'pandas.core.frame.DataFrame'&gt;\n",
        "Int64Index: 104 entries, 0 to 103\n",
        "Data columns (total 7 columns):\n",
        "Year            104  non-null values\n",
        "Winning team    104  non-null values\n",
        "League_win      104  non-null values\n",
        "Games           104  non-null values\n",
        "Win             104  non-null values\n",
        "Losing team     104  non-null values\n",
        "League_lose     104  non-null values\n",
        "dtypes: int64(2), object(5)\n",
        "</pre>"
       ],
       "metadata": {},
       "output_type": "pyout",
       "prompt_number": 2,
       "text": [
        "<class 'pandas.core.frame.DataFrame'>\n",
        "Int64Index: 104 entries, 0 to 103\n",
        "Data columns (total 7 columns):\n",
        "Year            104  non-null values\n",
        "Winning team    104  non-null values\n",
        "League_win      104  non-null values\n",
        "Games           104  non-null values\n",
        "Win             104  non-null values\n",
        "Losing team     104  non-null values\n",
        "League_lose     104  non-null values\n",
        "dtypes: int64(2), object(5)"
       ]
      }
     ],
     "prompt_number": 2
    },
    {
     "cell_type": "markdown",
     "metadata": {},
     "source": [
      "Look at first few lines."
     ]
    },
    {
     "cell_type": "code",
     "collapsed": false,
     "input": [
      "wsres.head(8)"
     ],
     "language": "python",
     "metadata": {},
     "outputs": [
      {
       "html": [
        "<div style=\"max-height:1000px;max-width:1500px;overflow:auto;\">\n",
        "<table border=\"1\" class=\"dataframe\">\n",
        "  <thead>\n",
        "    <tr style=\"text-align: right;\">\n",
        "      <th></th>\n",
        "      <th>Year</th>\n",
        "      <th>Winning team</th>\n",
        "      <th>League_win</th>\n",
        "      <th>Games</th>\n",
        "      <th>Win</th>\n",
        "      <th>Losing team</th>\n",
        "      <th>League_lose</th>\n",
        "    </tr>\n",
        "  </thead>\n",
        "  <tbody>\n",
        "    <tr>\n",
        "      <th>0</th>\n",
        "      <td> 1905</td>\n",
        "      <td>        New York Giants</td>\n",
        "      <td> NL</td>\n",
        "      <td> 4;1</td>\n",
        "      <td> 5</td>\n",
        "      <td> Philadelphia Athletics</td>\n",
        "      <td> AL</td>\n",
        "    </tr>\n",
        "    <tr>\n",
        "      <th>1</th>\n",
        "      <td> 1906</td>\n",
        "      <td>      Chicago White Sox</td>\n",
        "      <td> AL</td>\n",
        "      <td> 4;2</td>\n",
        "      <td> 6</td>\n",
        "      <td>           Chicago Cubs</td>\n",
        "      <td> NL</td>\n",
        "    </tr>\n",
        "    <tr>\n",
        "      <th>2</th>\n",
        "      <td> 1908</td>\n",
        "      <td>           Chicago Cubs</td>\n",
        "      <td> NL</td>\n",
        "      <td> 4;1</td>\n",
        "      <td> 5</td>\n",
        "      <td>         Detroit Tigers</td>\n",
        "      <td> AL</td>\n",
        "    </tr>\n",
        "    <tr>\n",
        "      <th>3</th>\n",
        "      <td> 1909</td>\n",
        "      <td>      Pittsburg Pirates</td>\n",
        "      <td> NL</td>\n",
        "      <td> 4;3</td>\n",
        "      <td> 7</td>\n",
        "      <td>         Detroit Tigers</td>\n",
        "      <td> AL</td>\n",
        "    </tr>\n",
        "    <tr>\n",
        "      <th>4</th>\n",
        "      <td> 1910</td>\n",
        "      <td> Philadelphia Athletics</td>\n",
        "      <td> AL</td>\n",
        "      <td> 4;1</td>\n",
        "      <td> 5</td>\n",
        "      <td>           Chicago Cubs</td>\n",
        "      <td> NL</td>\n",
        "    </tr>\n",
        "    <tr>\n",
        "      <th>5</th>\n",
        "      <td> 1911</td>\n",
        "      <td> Philadelphia Athletics</td>\n",
        "      <td> AL</td>\n",
        "      <td> 4;2</td>\n",
        "      <td> 6</td>\n",
        "      <td>        New York Giants</td>\n",
        "      <td> NL</td>\n",
        "    </tr>\n",
        "    <tr>\n",
        "      <th>6</th>\n",
        "      <td> 1913</td>\n",
        "      <td> Philadelphia Athletics</td>\n",
        "      <td> AL</td>\n",
        "      <td> 4;1</td>\n",
        "      <td> 5</td>\n",
        "      <td>        New York Giants</td>\n",
        "      <td> NL</td>\n",
        "    </tr>\n",
        "    <tr>\n",
        "      <th>7</th>\n",
        "      <td> 1914</td>\n",
        "      <td>          Boston Braves</td>\n",
        "      <td> NL</td>\n",
        "      <td> 4;0</td>\n",
        "      <td> 4</td>\n",
        "      <td> Philadelphia Athletics</td>\n",
        "      <td> AL</td>\n",
        "    </tr>\n",
        "  </tbody>\n",
        "</table>\n",
        "</div>"
       ],
       "metadata": {},
       "output_type": "pyout",
       "prompt_number": 3,
       "text": [
        "   Year            Winning team League_win Games  Win             Losing team  \\\n",
        "0  1905         New York Giants         NL   4;1    5  Philadelphia Athletics   \n",
        "1  1906       Chicago White Sox         AL   4;2    6            Chicago Cubs   \n",
        "2  1908            Chicago Cubs         NL   4;1    5          Detroit Tigers   \n",
        "3  1909       Pittsburg Pirates         NL   4;3    7          Detroit Tigers   \n",
        "4  1910  Philadelphia Athletics         AL   4;1    5            Chicago Cubs   \n",
        "5  1911  Philadelphia Athletics         AL   4;2    6         New York Giants   \n",
        "6  1913  Philadelphia Athletics         AL   4;1    5         New York Giants   \n",
        "7  1914           Boston Braves         NL   4;0    4  Philadelphia Athletics   \n",
        "\n",
        "  League_lose  \n",
        "0          AL  \n",
        "1          NL  \n",
        "2          AL  \n",
        "3          AL  \n",
        "4          NL  \n",
        "5          NL  \n",
        "6          NL  \n",
        "7          AL  "
       ]
      }
     ],
     "prompt_number": 3
    },
    {
     "cell_type": "markdown",
     "metadata": {},
     "source": [
      "Construct a histogram of the wins data.   "
     ]
    },
    {
     "cell_type": "code",
     "collapsed": false,
     "input": [
      "hist_win, bins_win=np.histogram(wsres['Win'],bins=[4,5,6,7,8])"
     ],
     "language": "python",
     "metadata": {},
     "outputs": [],
     "prompt_number": 4
    },
    {
     "cell_type": "code",
     "collapsed": false,
     "input": [
      "# Check everything looks good\n",
      "print hist_win  \n",
      "# print bins_win\n",
      "print (sum(hist_win))"
     ],
     "language": "python",
     "metadata": {},
     "outputs": [
      {
       "output_type": "stream",
       "stream": "stdout",
       "text": [
        "[19 25 24 36]\n",
        "104\n"
       ]
      }
     ],
     "prompt_number": 5
    },
    {
     "cell_type": "code",
     "collapsed": false,
     "input": [
      "# Histogram centered on number of wins\n",
      "wbin = 0.6 * (bins_win[1] - bins_win[0])\n",
      "center = bins_win[:-1] # more generally (bins_win[:-1] + bins_win[1:]) / 2\n",
      "plt.bar(center, hist_win, align='center', width=wbin, fc=(0, 0, 1, 0.5))\n",
      "plt.locator_params(axis = 'x', nbins = 5)\n",
      "plt.xlabel('Wins', fontsize=14)\n",
      "plt.ylabel('Number', fontsize=14)\n",
      "plt.title('Histogram of wins by number', fontsize=16)\n",
      "plt.show()"
     ],
     "language": "python",
     "metadata": {},
     "outputs": [
      {
       "metadata": {},
       "output_type": "display_data",
       "png": "[encoded data removed]",
       "text": [
        "<matplotlib.figure.Figure at 0x108366bd0>"
       ]
      }
     ],
     "prompt_number": 6
    },
    {
     "cell_type": "markdown",
     "metadata": {},
     "source": [
      "Calculate expected values for a fair con toss. Recall that in this case:\n",
      "\n",
      "$p(4)=0.125;~p(5)=0.25;~p(6)=0.3125;~p(7)=0.3125$\n"
     ]
    },
    {
     "cell_type": "markdown",
     "metadata": {},
     "source": [
      "Initialize parameters"
     ]
    },
    {
     "cell_type": "code",
     "collapsed": false,
     "input": [
      "trials = sum(hist_win) # Number of trials (total number of WS played)\n",
      "pw_exp = np.zeros(4) # expected probability of wins from binomials trials for m= 4, 5, 6 and 7\n",
      "win_exp = np.zeros(4) # expected number of wins from binomials trials for m= 4, 5, 6 and 7\n",
      "p = 0.5 # probability of winning a single game\n",
      "# Probability of win in m games with m= 4, 5, 6 and 7\n",
      "pw_exp[0] = p**4+(1-p)**4\n",
      "pw_exp[1] = 4*p*(1-p)*(p**3+(1-p)**3)\n",
      "pw_exp[2] = 10*p**2*(1-p)**2*(p**2+(1-p)**2)\n",
      "pw_exp[3] = 20*p**3*(1-p)**3\n",
      "\n",
      "for i in xrange(4):\n",
      "    win_exp[i]=trials*pw_exp[i]\n",
      "# Check values are sensible    \n",
      "print(pw_exp)\n",
      "print(win_exp)"
     ],
     "language": "python",
     "metadata": {},
     "outputs": [
      {
       "output_type": "stream",
       "stream": "stdout",
       "text": [
        "[ 0.125   0.25    0.3125  0.3125]\n",
        "[ 13.   26.   32.5  32.5]\n"
       ]
      }
     ],
     "prompt_number": 7
    },
    {
     "cell_type": "markdown",
     "metadata": {},
     "source": [
      "Compare actual and expected wins. Include standard error in expected wins as error bars."
     ]
    },
    {
     "cell_type": "code",
     "collapsed": false,
     "input": [
      "win_exp_err=np.zeros(4)\n",
      "wbin = 0.6 * (bins_win[1] - bins_win[0])\n",
      "center = bins_win[:-1] # more generally (bins_win[:-1] + bins_win[1:]) / 2\n",
      "# Expected error\n",
      "for i in xrange(4):\n",
      "    win_exp_err[i]=np.sqrt(win_exp[i]*(1-pw_exp[i]))   \n",
      "plt.bar(center, hist_win, align='center', width=wbin, fc=(0, 0, 1, 0.5), label='data')\n",
      "plt.bar(center, win_exp, align='center', width=wbin, fc=(1, 1, 1, 0.0), label='expected',linestyle='dashed',yerr=win_exp_err)\n",
      "# plt.bar(center, win_exp_max, align='center', width=wbin, fc=(0, 1, 0, 0.0), label='min_deviation',linestyle='dashed')\n",
      "# plt.bar(center, win_exp_min, align='center', width=wbin, fc=(1, 0, 0, 0.0), label='min',linestyle='dashed')\n",
      "plt.locator_params(axis = 'x', nbins = 5)\n",
      "plt.xlabel('Wins', fontsize=14)\n",
      "plt.ylabel('Number', fontsize=14)\n",
      "plt.title('Histogram of wins by number', fontsize=16)\n",
      "plt.legend(loc='upper left')\n",
      "plt.show()"
     ],
     "language": "python",
     "metadata": {},
     "outputs": [
      {
       "metadata": {},
       "output_type": "display_data",
       "png": "[encoded data removed]",
       "text": [
        "<matplotlib.figure.Figure at 0x108380890>"
       ]
      }
     ],
     "prompt_number": 10
    },
    {
     "cell_type": "markdown",
     "metadata": {},
     "source": [
      "The two distributions look similar, but they are not identical. To check whether they are statistically distinguishable, I will perform a chi-square test. While the number of bins is small, the number of observations in large enough that the test should be applicable."
     ]
    },
    {
     "cell_type": "markdown",
     "metadata": {},
     "source": [
      "Calculate $\\chi^{2}$. Choose a significance level of 0.05."
     ]
    },
    {
     "cell_type": "code",
     "collapsed": false,
     "input": [
      "chisq = 0.0 \n",
      "for i in xrange(4):\n",
      "    chisq += (hist_win[i]-win_exp[i])**2/win_exp[i]\n",
      "print(chisq)"
     ],
     "language": "python",
     "metadata": {},
     "outputs": [
      {
       "output_type": "stream",
       "stream": "stdout",
       "text": [
        "5.40769230769\n"
       ]
      }
     ],
     "prompt_number": 11
    },
    {
     "cell_type": "markdown",
     "metadata": {},
     "source": [
      "The number of degrees of freedom is 3 (number of bins-1). From chi-square tables (e.g., http://sites.stat.psu.edu/~mga/401/tables/Chi-square-table.pdf), the critical value at the 0.05 significance level is <font color='red'>$\\chi^{2}_{c}=7.815$</font>, which is greater than the observed value. Therefore, the null hypothesis\u2014the observations are due to chance (a fair coin toss)\u2014cannot be rejected."
     ]
    },
    {
     "cell_type": "markdown",
     "metadata": {},
     "source": [
      "After I calculated chi-square manually, I discovered the chi-square function in scipy.stats"
     ]
    },
    {
     "cell_type": "code",
     "collapsed": false,
     "input": [
      "chisq_stats=stats.chisquare(hist_win,win_exp,ddof=0)\n",
      "print(chisq_stats)"
     ],
     "language": "python",
     "metadata": {},
     "outputs": [
      {
       "output_type": "stream",
       "stream": "stdout",
       "text": [
        "(5.407692307692308, 0.14426507265407934)\n"
       ]
      }
     ],
     "prompt_number": 12
    },
    {
     "cell_type": "markdown",
     "metadata": {},
     "source": [
      "The second entry in chisq_stats is the significance level at which the calculated $\\chi^{2}$ is the critical value. In other words, the probability that the observed value of $\\chi^{2}$ occured by chance is 0.144."
     ]
    },
    {
     "cell_type": "markdown",
     "metadata": {},
     "source": [
      "By playing around with the value of $p$, I discovered that $0.65 \\geq p \\geq 0.35$ also can't be rejected. \n",
      "Note: $\\chi^{2}(p)=\\chi^{2}(1-p)$ due to the symmetry of $p(m)$."
     ]
    },
    {
     "cell_type": "markdown",
     "metadata": {},
     "source": [
      "I can assume a different null hypothesis: the WS results are described by a coin toss that is not necessarilty fair, with an unknown probability. Then I can use a minimum chi-square test to assign a value for $p$."
     ]
    },
    {
     "cell_type": "code",
     "collapsed": false,
     "input": [
      "def chisq2(q, y):\n",
      "    trials = sum(y) # Number of trials (total number of WS played)\n",
      "    pw_exp2 = np.zeros(4) # expected probaility of wins from binomials trials for m= 4, 5, 6 and 7\n",
      "    win_exp2 = np.zeros(4) # expected number of wins from binomials trials for m= 4, 5, 6 and 7\n",
      "    pw_exp2[0] = q**4+(1-q)**4\n",
      "    pw_exp2[1] = 4*q*(1-q)*(q**3+(1-q)**3)\n",
      "    pw_exp2[2] = 10*q**2*(1-q)**2*(q**2+(1-q)**2)\n",
      "    pw_exp2[3] = 20*q**3*(1-q)**3\n",
      "    \n",
      "    chisquare = 0.0    \n",
      "    for i in xrange(4):\n",
      "        win_exp2[i]=trials*pw_exp2[i]\n",
      "        chisquare += (y[i]-win_exp2[i])**2/win_exp2[i]\n",
      "        \n",
      "    return chisquare\n",
      "\n",
      "# Stepwise minimization\n",
      "q_init=0.5\n",
      "q_max=1\n",
      "q_min=0.5\n",
      "func_init=(chisq2(q_init, hist_win))\n",
      "\n",
      "# A simple minimization\n",
      "step=100000\n",
      "for i in xrange(step):\n",
      "    q = i*(q_max-q_min)/step + q_init # q = -i*(q_max-q_min)/1000 + q_init checks for q < 0.5 minimum\n",
      "    func = (chisq2(q, hist_win))\n",
      "    if func <= func_init:\n",
      "        func_init = func\n",
      "    else:\n",
      "        print('\\nMinimum chi-square is %.5f at p = %.3f or p = %.3f' % (func, q, 1-q))\n",
      "        break\n",
      "        \n"
     ],
     "language": "python",
     "metadata": {},
     "outputs": [
      {
       "output_type": "stream",
       "stream": "stdout",
       "text": [
        "\n",
        "Minimum chi-square is 4.22579 at p = 0.590 or p = 0.410\n"
       ]
      }
     ],
     "prompt_number": 21
    },
    {
     "cell_type": "markdown",
     "metadata": {},
     "source": [
      "With this value of the probability and the corresponding value of chi-square, I can used a chi-square test to calculate $\\alpha$ (the p-value). In this case the number of degrees of freedom is 2 since I have used the data to estimate one parameter.\n",
      "\n",
      "(Number of degrees of freedom = number of bins - numer of parameters estimated - 1).\n",
      "\n",
      "From http://stattrek.com/online-calculator/chi-square.aspx, I find $\\alpha=0.12$, which is a little smaller than the p=0.5 case ($\\alpha=0.144$), but not much of an improvement.\n"
     ]
    },
    {
     "cell_type": "markdown",
     "metadata": {},
     "source": [
      "<font color='green'>Final Thoughts:</font>The World Series seems like a coin toss to me. To determine whether it is a fair one or not would require more data, but a fair coin is a possible explanation. This result is consistent with the finding that out of all the major US sports leagues, basball produces the least deserving champions (http://harvardsportsanalysis.org/2013/09/undeserving-champions-examining-variance-in-the-postseason/).\n",
      "\n",
      "For further work, collecting more data\u2014such as including all of the post-season or at least the best of seven divisional championships\u2014would be a logical next step. Also, it would prudent to check whether the assumptions underlying the binomial distribution hold, e.g. independence of each win.\n",
      "\n",
      "Making money: not easy. It would require finding someone who would give good enough odds e.g., better than 8-1 to make a comeback from 1-3 (assuming a fair coin model). Such long odds are hard to find. One reason is that the odds for events with only two outcomes can't be too long otherwise they become susceptible to arbitrage betting (if sum of reciprocals of odds is less than one, there is an arbitage opporunity; see https://en.wikipedia.org/wiki/Arbitrage_betting).\n",
      "\n",
      "If the WS series is not a fair coin toss then another way to make money can be explored. Look for some external factor that allows you to predict which team has the advanatge and bet accordingly. This assumes, of course, that the bookmakers haven't priced in the asymmetry. Unlikely, but if their customers are betting based on emotion, the odds could move away from the mathematical expectations (the bookmakers can't afford to be exposed to a large loss).\n"
     ]
    },
    {
     "cell_type": "markdown",
     "metadata": {},
     "source": [
      "<font color='green'> Addendum I: </font> After I completed, the analysis above, I realized that there is one more thing I can examine with the data I have: whether there is a difference between the number of wins by an American League (AL) team and by a National League (NL) team. If the result is indeed completely random, I would expect that the number of AL and NL wins be approximately equal."
     ]
    },
    {
     "cell_type": "markdown",
     "metadata": {},
     "source": [
      "Plot wins by league"
     ]
    },
    {
     "cell_type": "code",
     "collapsed": false,
     "input": [
      "wsres.League_win.value_counts().plot(kind='bar', color='red')\n",
      "plt.xlabel('League', fontsize=14)\n",
      "plt.ylabel('Number of wins', fontsize=14)\n",
      "plt.title('Wins by League', fontsize=16)   \n",
      "print(wsres.League_win.value_counts())"
     ],
     "language": "python",
     "metadata": {},
     "outputs": [
      {
       "output_type": "stream",
       "stream": "stdout",
       "text": [
        "AL    61\n",
        "NL    43\n",
        "dtype: int64\n"
       ]
      },
      {
       "metadata": {},
       "output_type": "display_data",
       "png": "[encoded data removed]",
       "text": [
        "<matplotlib.figure.Figure at 0x108377410>"
       ]
      }
     ],
     "prompt_number": 14
    },
    {
     "cell_type": "markdown",
     "metadata": {},
     "source": [
      "More wins by AL, but is this significant?  \n",
      "\n"
     ]
    },
    {
     "cell_type": "markdown",
     "metadata": {},
     "source": [
      "Let the probability for the AL team to win a WS be $q$. If $n$ WS events are played and the AL teams wins $w$ of them (and therefore the NL teams wins $n-w$), the chi-square for this outcome is\n",
      "\n",
      "$\\chi^{2} = \\large{\\frac{[{w-nq}]^2}{nq} + \\frac{{[(n-w)-n(1-q)}]^2}{n(1-q)}= \\frac{[{w-nq}]^2}{nq(1-q)}}$"
     ]
    },
    {
     "cell_type": "markdown",
     "metadata": {},
     "source": [
      "This chi-square is a minimum when $q=w/n$. In this case $q=61/104=0.586$. If we assume that winning a WS is a random event i.e., $q=0.5$, then \n",
      "\n",
      "$\\chi^{2} = {\\large{\\frac{[{61-104*0.5}]^2}{104*0.5*(1-0.5)}}} = 3.11$\n",
      "\n",
      "For one degree of freedom the critical value at the 0.05 significant level is <font color='red'>$\\chi^{2}_{c}=3.481$</font>, so we cannot reject the null hypothesis that the result is due to chance (see http://sites.stat.psu.edu/~mga/401/tables/Chi-square-table.pdf)."
     ]
    },
    {
     "cell_type": "markdown",
     "metadata": {},
     "source": [
      "$q$ can also be calculated from the probability $p$ to win an individual game. Taking team A as the AL team:"
     ]
    },
    {
     "cell_type": "markdown",
     "metadata": {},
     "source": [
      "$q = \\sum_{m=4}^{7}p_{A}(m)= p^4[1 + 4(1-p) + 10(1-p)^2 + 20(1-p)^3] $  "
     ]
    },
    {
     "cell_type": "markdown",
     "metadata": {},
     "source": [
      "For $p=0.5$, $q=0.5$ as expected. \n",
      "\n",
      "For $p=0.590$ (the value that minimized the chi-square for win in specific number of games), q should be $0.691$; for $q=0.586$ as found above, $p=0.54$. This difference suggests that further analysis is warranted. For now it seems that a fair coin toss is a reasonable model for the WS."
     ]
    },
    {
     "cell_type": "code",
     "collapsed": false,
     "input": [
      "def prob_al(p):\n",
      "    p_al = p**4+4*p**4*(1-p)+10*p**4*(1-p)**2+20*p**4*(1-p)**3\n",
      "    return p_al"
     ],
     "language": "python",
     "metadata": {},
     "outputs": [],
     "prompt_number": 15
    },
    {
     "cell_type": "code",
     "collapsed": false,
     "input": [
      "p_game = 0.590 # Probability of AL winning a single game \n",
      "print ('\\nProbability of AL winning a single game is %.3f' % p_game)\n",
      "print ('\\nProbability of AL winning the World Series is %.3f' % prob_al(p_game))"
     ],
     "language": "python",
     "metadata": {},
     "outputs": [
      {
       "output_type": "stream",
       "stream": "stdout",
       "text": [
        "\n",
        "Probability of AL winning a single game is 0.590\n",
        "\n",
        "Probability of AL winning the World Series is 0.691\n"
       ]
      }
     ],
     "prompt_number": 16
    },
    {
     "cell_type": "markdown",
     "metadata": {},
     "source": [
      "<font color='green'> Addendum II: </font> One assumption made when comparing the results with a binomial model is that the events are serially independent. I will check serially independence for the AL/NL data."
     ]
    },
    {
     "cell_type": "markdown",
     "metadata": {},
     "source": [
      "First convert the categorical labels to 1 (AL) and 0 (NL)"
     ]
    },
    {
     "cell_type": "code",
     "collapsed": false,
     "input": [
      "ws_binary=np.zeros(trials)\n",
      "for i in range(0,trials):\n",
      "    if wsres['League_win'][i] == 'AL':\n",
      "        ws_binary[i]=1\n",
      "    elif wsres['League_win'][i]== 'NL':\n",
      "        ws_binary[i]=0\n",
      "    else:\n",
      "        print('\\nThere is an error for i=%d' % i)\n",
      "print(ws_binary)                      "
     ],
     "language": "python",
     "metadata": {},
     "outputs": [
      {
       "output_type": "stream",
       "stream": "stdout",
       "text": [
        "[ 0.  1.  0.  0.  1.  1.  1.  0.  1.  1.  1.  1.  1.  1.  0.  0.  1.  1.\n",
        "  1.  1.  0.  1.  0.  0.  1.  1.  1.  1.  1.  0.  1.  0.  1.  0.  1.  0.\n",
        "  1.  1.  1.  1.  1.  1.  1.  0.  0.  1.  0.  1.  0.  0.  1.  1.  0.  0.\n",
        "  0.  1.  0.  1.  0.  1.  0.  1.  1.  1.  0.  0.  1.  1.  0.  0.  0.  0.\n",
        "  1.  1.  1.  0.  1.  0.  1.  0.  1.  1.  1.  0.  1.  0.  1.  1.  1.  0.\n",
        "  1.  0.  1.  1.  0.  1.  0.  1.  0.  0.  0.  1.  0.  1.]\n"
       ]
      }
     ],
     "prompt_number": 17
    },
    {
     "cell_type": "code",
     "collapsed": false,
     "input": [
      "plt.plot(wsres['Year'], ws_binary, color='b')\n",
      "plt.xlabel('Year', fontsize=14)\n",
      "plt.ylabel('League', fontsize=14)\n",
      "plt.ylim(-0.5,1.5)\n",
      "plt.title('League by Year', fontsize=16)"
     ],
     "language": "python",
     "metadata": {},
     "outputs": [
      {
       "metadata": {},
       "output_type": "pyout",
       "prompt_number": 18,
       "text": [
        "<matplotlib.text.Text at 0x108378150>"
       ]
      },
      {
       "metadata": {},
       "output_type": "display_data",
       "png": "[encoded data removed]",
       "text": [
        "<matplotlib.figure.Figure at 0x1083846d0>"
       ]
      }
     ],
     "prompt_number": 18
    },
    {
     "cell_type": "markdown",
     "metadata": {},
     "source": [
      "There is are large gap around 1920, but that is when four years were removed, so it gives the illusion of a long string of AL victories, but that is not the case. After 1922 don't see any serial correlation by eye, but best to check numerically. Calculate transitions observed between 0 and 1 and compare with values expected if wins are independent. (See sec. 8.2.3 of http://www.atmosfera.unam.mx/jzavala/AnalisisDatos/Statistical_Methods_Wilks.pdf)"
     ]
    },
    {
     "cell_type": "code",
     "collapsed": false,
     "input": [
      "# Count transitions\n",
      "# Transitions n_ij is transition from i to j\n",
      "n00=0.0\n",
      "n01=0.0\n",
      "n10=0.0\n",
      "n11=0.0\n",
      "for i in range(0,trials-1):\n",
      "    if ws_binary[i] == 0 and ws_binary[i+1] == 0:\n",
      "        n00 += 1\n",
      "    elif ws_binary[i] == 0 and ws_binary[i+1] == 1:\n",
      "        n01 += 1\n",
      "    elif ws_binary[i] == 1 and ws_binary[i+1] == 0:\n",
      "        n10 += 1\n",
      "    elif ws_binary[i] == 1 and ws_binary[i+1] == 1:\n",
      "        n11 += 1\n",
      "    else:\n",
      "        print('\\nThere is an error for i=%i' % i)\n",
      "       \n",
      "n1a = n10 + n11  # 1 to any state\n",
      "n0a = n00 + n01  # 0 to any state\n",
      "na1 = n01 + n11  # any state to 0\n",
      "na0 = n00 + n10  # any state to 1\n",
      "print(n00, n01, n10, n11)\n",
      "print(n1a, n0a, na1, na0)\n",
      "# Checks\n",
      "print('\\n')\n",
      "print('n00 + n01 + n10 + n11 (%0.f) should be number of trials-1 (%0.f)' % ((n00 + n01 + n10 + n11), trials-1)) \n",
      "print('Last entry is a 1, so na1 (%0.f) should be number of AL wins' % na1)\n",
      "print('First entry is a 0, so n0a (%0.f) should be number of NL wins' % n0a)\n",
      "print(wsres.League_win.value_counts())"
     ],
     "language": "python",
     "metadata": {},
     "outputs": [
      {
       "output_type": "stream",
       "stream": "stdout",
       "text": [
        "(13.0, 30.0, 29.0, 31.0)\n",
        "(60.0, 43.0, 61.0, 42.0)\n",
        "\n",
        "\n",
        "n00 + n01 + n10 + n11 (103) should be number of trials-1 (103)\n",
        "Last entry is a 1, so na1 (61) should be number of AL wins\n",
        "First entry is a 0, so n0a (43) should be number of NL wins\n",
        "AL    61\n",
        "NL    43\n",
        "dtype: int64\n"
       ]
      }
     ],
     "prompt_number": 17
    },
    {
     "cell_type": "markdown",
     "metadata": {},
     "source": [
      "Calculate expected values assuming serial independence"
     ]
    },
    {
     "cell_type": "code",
     "collapsed": false,
     "input": [
      "e00=0.0\n",
      "e01=0.0\n",
      "e10=0.0\n",
      "e11=0.0\n",
      "n=trials\n",
      "# If there is serial independence\n",
      "e00=n0a*na0/n\n",
      "e01=n0a*na1/n\n",
      "e10=n1a*na0/n\n",
      "e11=n1a*na1/n\n",
      "\n",
      "print('\\nActual values for n00, n01, n10, n11')\n",
      "print('%.1f, %.1f, %.1f, %.1f' % (n00, n01, n10, n11))\n",
      "print('\\nExpected values for n00, n01, n10, n11')\n",
      "print('%.1f, %.1f, %.1f, %.1f' % (e00,e01,e10,e11))"
     ],
     "language": "python",
     "metadata": {},
     "outputs": [
      {
       "output_type": "stream",
       "stream": "stdout",
       "text": [
        "\n",
        "Actual values for n00, n01, n10, n11\n",
        "13.0, 30.0, 29.0, 31.0\n",
        "\n",
        "Expected values for n00, n01, n10, n11\n",
        "17.4, 25.2, 24.2, 35.2\n"
       ]
      }
     ],
     "prompt_number": 18
    },
    {
     "cell_type": "markdown",
     "metadata": {},
     "source": [
      "Actual and expected values are not too far off. Calculate chi-square and examine it at the 0.05 significance level. There is only one degree of freedom since marginal totals are fixed, so specifying one of the transition counts determines the other three."
     ]
    },
    {
     "cell_type": "code",
     "collapsed": false,
     "input": [
      "chisq_league=(n00-e00)**2/e00+(n01-e01)**2/e01+(n10-e10)**2/e10+(n11-e11)**2/e11\n",
      "print('Chi-square for the serial independence is %.3f' % chisq_league)"
     ],
     "language": "python",
     "metadata": {},
     "outputs": [
      {
       "output_type": "stream",
       "stream": "stdout",
       "text": [
        "Chi-square for the serial independence is 3.441\n"
       ]
      }
     ],
     "prompt_number": 19
    },
    {
     "cell_type": "markdown",
     "metadata": {},
     "source": [
      "For one degree of freedom the critical value at the 0.05 significant level is <font color='red'>$\\chi^{2}_{c}=3.481$</font> (see above), so we cannot reject the null hypothesis that the \n",
      "data is serially independent. Therefore, the data can be modeled as a Bernoulli process as I did above. "
     ]
    }
   ],
   "metadata": {}
  }
 ]
}